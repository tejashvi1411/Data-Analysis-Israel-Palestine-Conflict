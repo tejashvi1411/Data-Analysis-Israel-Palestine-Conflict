{
 "cells": [
  {
   "cell_type": "markdown",
   "id": "b303468d",
   "metadata": {},
   "source": [
    "![Credits To wikipedia](https://cdn.substack.com/image/fetch/f_auto,q_auto:good,fl_progressive:steep/https%3A%2F%2Fbucketeer-e05bbc84-baa3-437e-9518-adb32be77984.s3.amazonaws.com%2Fpublic%2Fimages%2Fa4ee0558-f0ab-41a4-b439-1557e0702541_602x1243.jpeg)\n",
    "# Introduction\n",
    "\n",
    "## Context\n",
    "This is an attempt to document the human cost of Israel-Palestine conflict. The Israeli–Palestinian conflict is one of the world's most enduring conflicts, with the Israeli occupation of the West Bank and the Gaza Strip reaching 54 years of conflict. Various attempts have been made to resolve the conflict as part of the Israeli–Palestinian peace process.\n",
    "In the year 2000, the relations between both states severely deteriorated with the eruption of the Al-Aqsa Intifada – a rapid escalation of the Israeli–Palestinian conflict. The events calmed down in 2005, with reconciliation and cease fire. The situation became more complicated with the split of the Palestinian Authority in 2007, the violent split of Fatah and Hamas factions, and Hamas' takeover of the Gaza Strip.\n",
    "\n",
    "## Content\n",
    "The datasets contain injuries and fatalities data from both sides from 2000 - 2021. It has year, month, number of people killed and injured from Israel and Palestine. There are 111,475 people injured and 10,000 killed from Palestine and another 5,160 people injured and 1,275 killed from Israel. The House Demolition dataset further helps us analyse the loss of infrastructure caused by warfare.\n",
    "\n",
    "## Investigative Questions\n",
    "#### -Which Years Have Seen Most Bloodshed In The Region?\n",
    "#### -What Is The Countrywise Share Of Casualties?\n",
    "#### -Compare The Decadal Change In Total Casualties\n",
    "#### -Investigate The Reasons For Casualties Faced By Israelis In Their Worst Year Of Crisis\n",
    "#### -Investigate The Reasons For Casualties Faced By Palestinians In Their Worst Year Of Crisis\n",
    "#### -Is There Any Significant Rise Or Decline In Casualties With Respect To Different Months Of Year?\n",
    "#### -Are Highest Casualties In Given Years Consistent With The Destruction Of Infrastruture?\n",
    "#### -Analyse The Effects Of 2014 Invasion By Israeli Military\n",
    "#### -Analyse The 2007 Battle Of Gaza \n",
    "![Credits To India Today](https://akm-img-a-in.tosshub.com/indiatoday/images/story/202105/Iron_Dome_1200.jpg?e8zqArc6LvBZ5MI4hxW099t9l_FHvH.h&size=1200:675)\n",
    "Credits To India Today For Picture"
   ]
  },
  {
   "cell_type": "code",
   "execution_count": 5,
   "id": "0663091d",
   "metadata": {},
   "outputs": [],
   "source": [
    "import numpy as np \n",
    "import pandas as pd \n",
    "import matplotlib.pyplot as plt\n",
    "import seaborn as sns\n",
    "import plotly.express as px"
   ]
  },
  {
   "cell_type": "code",
   "execution_count": 6,
   "id": "9759a107",
   "metadata": {},
   "outputs": [],
   "source": [
    "df=pd.read_csv(\"House Demolitions in Palestine.csv\")"
   ]
  },
  {
   "cell_type": "code",
   "execution_count": 7,
   "id": "d57bad96",
   "metadata": {},
   "outputs": [],
   "source": [
    "df1=pd.read_csv(\"Palestine Body Count.csv\")"
   ]
  },
  {
   "cell_type": "markdown",
   "id": "402bd700",
   "metadata": {},
   "source": [
    "# PREPROCESSING & WRANGLING OF DATA"
   ]
  },
  {
   "cell_type": "code",
   "execution_count": 8,
   "id": "22984cf7",
   "metadata": {},
   "outputs": [
    {
     "data": {
      "text/html": [
       "<div>\n",
       "<style scoped>\n",
       "    .dataframe tbody tr th:only-of-type {\n",
       "        vertical-align: middle;\n",
       "    }\n",
       "\n",
       "    .dataframe tbody tr th {\n",
       "        vertical-align: top;\n",
       "    }\n",
       "\n",
       "    .dataframe thead th {\n",
       "        text-align: right;\n",
       "    }\n",
       "</style>\n",
       "<table border=\"1\" class=\"dataframe\">\n",
       "  <thead>\n",
       "    <tr style=\"text-align: right;\">\n",
       "      <th></th>\n",
       "      <th>Year</th>\n",
       "      <th>Housing Units</th>\n",
       "      <th>People Left Homeless</th>\n",
       "      <th>Minors Left Homeless</th>\n",
       "      <th>Area</th>\n",
       "      <th>Type of Structure</th>\n",
       "      <th>Demolish Scope</th>\n",
       "      <th>District</th>\n",
       "      <th>Demolition Reason</th>\n",
       "      <th>Demolition carried out by</th>\n",
       "    </tr>\n",
       "  </thead>\n",
       "  <tbody>\n",
       "    <tr>\n",
       "      <th>268</th>\n",
       "      <td>2004.0</td>\n",
       "      <td>8</td>\n",
       "      <td>66</td>\n",
       "      <td>0</td>\n",
       "      <td>Gaza Strip</td>\n",
       "      <td>Residential Structure</td>\n",
       "      <td>Complete Demolition</td>\n",
       "      <td>Rafah</td>\n",
       "      <td>Demolition of houses as punishment</td>\n",
       "      <td>NaN</td>\n",
       "    </tr>\n",
       "    <tr>\n",
       "      <th>245</th>\n",
       "      <td>2004.0</td>\n",
       "      <td>53</td>\n",
       "      <td>194</td>\n",
       "      <td>110</td>\n",
       "      <td>East Jerusalem</td>\n",
       "      <td>Residential Structure</td>\n",
       "      <td>NaN</td>\n",
       "      <td>East Jerusalem</td>\n",
       "      <td>Demolition on the pretext of unlawful construc...</td>\n",
       "      <td>Authorities</td>\n",
       "    </tr>\n",
       "    <tr>\n",
       "      <th>246</th>\n",
       "      <td>2004.0</td>\n",
       "      <td>27</td>\n",
       "      <td>138</td>\n",
       "      <td>0</td>\n",
       "      <td>Gaza Strip</td>\n",
       "      <td>Residential Structure</td>\n",
       "      <td>Complete Demolition</td>\n",
       "      <td>Deir al-Balah</td>\n",
       "      <td>Demolition for alleged military purposes</td>\n",
       "      <td>NaN</td>\n",
       "    </tr>\n",
       "    <tr>\n",
       "      <th>247</th>\n",
       "      <td>2004.0</td>\n",
       "      <td>64</td>\n",
       "      <td>123</td>\n",
       "      <td>0</td>\n",
       "      <td>Gaza Strip</td>\n",
       "      <td>Residential Structure</td>\n",
       "      <td>Complete Demolition</td>\n",
       "      <td>Gaza</td>\n",
       "      <td>Demolition for alleged military purposes</td>\n",
       "      <td>NaN</td>\n",
       "    </tr>\n",
       "    <tr>\n",
       "      <th>248</th>\n",
       "      <td>2004.0</td>\n",
       "      <td>408</td>\n",
       "      <td>3,023</td>\n",
       "      <td>0</td>\n",
       "      <td>Gaza Strip</td>\n",
       "      <td>Residential Structure</td>\n",
       "      <td>Complete Demolition</td>\n",
       "      <td>Khan Yunis</td>\n",
       "      <td>Demolition for alleged military purposes</td>\n",
       "      <td>NaN</td>\n",
       "    </tr>\n",
       "  </tbody>\n",
       "</table>\n",
       "</div>"
      ],
      "text/plain": [
       "       Year Housing Units People Left Homeless Minors Left Homeless  \\\n",
       "268  2004.0             8                   66                    0   \n",
       "245  2004.0            53                  194                  110   \n",
       "246  2004.0            27                  138                    0   \n",
       "247  2004.0            64                  123                    0   \n",
       "248  2004.0           408                3,023                    0   \n",
       "\n",
       "               Area      Type of Structure       Demolish Scope  \\\n",
       "268      Gaza Strip  Residential Structure  Complete Demolition   \n",
       "245  East Jerusalem  Residential Structure                  NaN   \n",
       "246      Gaza Strip  Residential Structure  Complete Demolition   \n",
       "247      Gaza Strip  Residential Structure  Complete Demolition   \n",
       "248      Gaza Strip  Residential Structure  Complete Demolition   \n",
       "\n",
       "           District                                  Demolition Reason  \\\n",
       "268           Rafah                 Demolition of houses as punishment   \n",
       "245  East Jerusalem  Demolition on the pretext of unlawful construc...   \n",
       "246   Deir al-Balah           Demolition for alleged military purposes   \n",
       "247            Gaza           Demolition for alleged military purposes   \n",
       "248      Khan Yunis           Demolition for alleged military purposes   \n",
       "\n",
       "    Demolition carried out by  \n",
       "268                       NaN  \n",
       "245               Authorities  \n",
       "246                       NaN  \n",
       "247                       NaN  \n",
       "248                       NaN  "
      ]
     },
     "execution_count": 8,
     "metadata": {},
     "output_type": "execute_result"
    }
   ],
   "source": [
    "df=df.sort_values(by=\"Year\",ascending=True)\n",
    "df.head()"
   ]
  },
  {
   "cell_type": "code",
   "execution_count": 9,
   "id": "35764895",
   "metadata": {},
   "outputs": [
    {
     "data": {
      "text/html": [
       "<div>\n",
       "<style scoped>\n",
       "    .dataframe tbody tr th:only-of-type {\n",
       "        vertical-align: middle;\n",
       "    }\n",
       "\n",
       "    .dataframe tbody tr th {\n",
       "        vertical-align: top;\n",
       "    }\n",
       "\n",
       "    .dataframe thead th {\n",
       "        text-align: right;\n",
       "    }\n",
       "</style>\n",
       "<table border=\"1\" class=\"dataframe\">\n",
       "  <thead>\n",
       "    <tr style=\"text-align: right;\">\n",
       "      <th></th>\n",
       "      <th>Year</th>\n",
       "      <th>Month</th>\n",
       "      <th>Palestinians Injuries</th>\n",
       "      <th>Israelis Injuries</th>\n",
       "      <th>Palestinians Killed</th>\n",
       "      <th>Israelis Killed</th>\n",
       "    </tr>\n",
       "  </thead>\n",
       "  <tbody>\n",
       "    <tr>\n",
       "      <th>0</th>\n",
       "      <td>2000.0</td>\n",
       "      <td>DECEMBER</td>\n",
       "      <td>781</td>\n",
       "      <td>NaN</td>\n",
       "      <td>51</td>\n",
       "      <td>8</td>\n",
       "    </tr>\n",
       "    <tr>\n",
       "      <th>1</th>\n",
       "      <td>2000.0</td>\n",
       "      <td>NOVEMBER</td>\n",
       "      <td>3838</td>\n",
       "      <td>NaN</td>\n",
       "      <td>112</td>\n",
       "      <td>22</td>\n",
       "    </tr>\n",
       "    <tr>\n",
       "      <th>2</th>\n",
       "      <td>2000.0</td>\n",
       "      <td>OCTOBER</td>\n",
       "      <td>5984</td>\n",
       "      <td>NaN</td>\n",
       "      <td>104</td>\n",
       "      <td>10</td>\n",
       "    </tr>\n",
       "    <tr>\n",
       "      <th>3</th>\n",
       "      <td>2000.0</td>\n",
       "      <td>SEPTEMBER</td>\n",
       "      <td>NaN</td>\n",
       "      <td>NaN</td>\n",
       "      <td>16</td>\n",
       "      <td>1</td>\n",
       "    </tr>\n",
       "    <tr>\n",
       "      <th>15</th>\n",
       "      <td>2001.0</td>\n",
       "      <td>JANUARY</td>\n",
       "      <td>471</td>\n",
       "      <td>NaN</td>\n",
       "      <td>19</td>\n",
       "      <td>6</td>\n",
       "    </tr>\n",
       "  </tbody>\n",
       "</table>\n",
       "</div>"
      ],
      "text/plain": [
       "      Year      Month Palestinians Injuries Israelis Injuries  \\\n",
       "0   2000.0   DECEMBER                   781               NaN   \n",
       "1   2000.0   NOVEMBER                  3838               NaN   \n",
       "2   2000.0    OCTOBER                  5984               NaN   \n",
       "3   2000.0  SEPTEMBER                   NaN               NaN   \n",
       "15  2001.0    JANUARY                   471               NaN   \n",
       "\n",
       "   Palestinians Killed Israelis Killed  \n",
       "0                   51               8  \n",
       "1                  112              22  \n",
       "2                  104              10  \n",
       "3                   16               1  \n",
       "15                  19               6  "
      ]
     },
     "execution_count": 9,
     "metadata": {},
     "output_type": "execute_result"
    }
   ],
   "source": [
    "df1=df1.sort_values(by=\"Year\",ascending=True)\n",
    "df1.head()"
   ]
  },
  {
   "cell_type": "code",
   "execution_count": 10,
   "id": "b7050ad8",
   "metadata": {},
   "outputs": [
    {
     "data": {
      "text/plain": [
       "Year                         269\n",
       "Housing Units                270\n",
       "People Left Homeless         270\n",
       "Minors Left Homeless         269\n",
       "Area                         269\n",
       "Type of Structure            269\n",
       "Demolish Scope                97\n",
       "District                     269\n",
       "Demolition Reason            269\n",
       "Demolition carried out by     52\n",
       "dtype: int64"
      ]
     },
     "execution_count": 10,
     "metadata": {},
     "output_type": "execute_result"
    }
   ],
   "source": [
    "df.count()"
   ]
  },
  {
   "cell_type": "code",
   "execution_count": 11,
   "id": "45e68334",
   "metadata": {},
   "outputs": [
    {
     "data": {
      "text/plain": [
       "Year                     249\n",
       "Month                    249\n",
       "Palestinians Injuries    196\n",
       "Israelis Injuries        133\n",
       "Palestinians Killed      250\n",
       "Israelis Killed          250\n",
       "dtype: int64"
      ]
     },
     "execution_count": 11,
     "metadata": {},
     "output_type": "execute_result"
    }
   ],
   "source": [
    "df1.count()"
   ]
  },
  {
   "cell_type": "markdown",
   "id": "f7bcabc6",
   "metadata": {},
   "source": [
    "## Fixing Errors With Dataset Using An Assortment Of Typical And Heuristic Ways"
   ]
  },
  {
   "cell_type": "code",
   "execution_count": 12,
   "id": "9412b81b",
   "metadata": {},
   "outputs": [],
   "source": [
    "df=df.drop(axis=1,columns=[\"Demolition Reason\",\"Demolition carried out by\",\"Demolish Scope\"])"
   ]
  },
  {
   "cell_type": "code",
   "execution_count": 13,
   "id": "4d0df699",
   "metadata": {},
   "outputs": [
    {
     "name": "stderr",
     "output_type": "stream",
     "text": [
      "C:\\Users\\1411t\\anaconda3\\lib\\site-packages\\pandas\\core\\indexing.py:1637: SettingWithCopyWarning: \n",
      "A value is trying to be set on a copy of a slice from a DataFrame\n",
      "\n",
      "See the caveats in the documentation: https://pandas.pydata.org/pandas-docs/stable/user_guide/indexing.html#returning-a-view-versus-a-copy\n",
      "  self._setitem_single_block(indexer, value, name)\n"
     ]
    }
   ],
   "source": [
    "df1=df1.iloc[0:249]\n",
    "df1['Palestinians Injuries']=df1['Palestinians Injuries'].replace(\"(incl. Jun)\", np.nan)\n",
    "df1['Israelis Injuries']=df1['Israelis Injuries'].replace(\"(incl. Jun)\", np.nan)\n",
    "df1['Palestinians Injuries']=df1['Palestinians Injuries'].replace(\"(incl. Aug)\", np.nan)\n",
    "df1['Israelis Injuries']=df1['Israelis Injuries'].replace(\"(incl. Aug)\", np.nan)\n",
    "df1.fillna(value=0,inplace=True)\n",
    "df1[\"Year\"]=df1[\"Year\"].apply(int)\n",
    "df1[\"Palestinians Killed\"]=df1[\"Palestinians Killed\"].apply(int)\n",
    "df1[\"Israelis Killed\"]=df1[\"Israelis Killed\"].apply(int)\n",
    "df1[\"Israelis Injuries\"] = df1[\"Israelis Injuries\"].apply(int)\n",
    "df1[\"Palestinians Injuries\"] = df1[\"Palestinians Injuries\"].apply(int)\n",
    "df1[\"Palestinians Injuries\"].iloc[165]=0\n",
    "df1[\"Israelis Injuries\"].iloc[165]=0\n",
    "df1[\"Palestinians Injuries\"].iloc[203]=0\n",
    "df1[\"Israelis Injuries\"].iloc[203]=0\n",
    "df1[\"Month\"].iloc[203]=\"MAY\"\n",
    "df1[\"Month\"].iloc[227]=\"MAY\"\n",
    "df1[\"Month\"].iloc[239]=\"MAY\"\n"
   ]
  },
  {
   "cell_type": "code",
   "execution_count": 14,
   "id": "335b32d7",
   "metadata": {},
   "outputs": [],
   "source": [
    "# Fixing string issues with data column \"People Left Homeless\" \n",
    "for i in range(len(df)):\n",
    "    if df[\"People Left Homeless\"].iloc[i]==\"3,023\":\n",
    "        df[\"People Left Homeless\"].iloc[i]=int(3023)\n",
    "    elif df[\"People Left Homeless\"].iloc[i]==\"6,325\":\n",
    "        df[\"People Left Homeless\"].iloc[i]=int(6325)\n",
    "    elif df[\"People Left Homeless\"].iloc[i]==\"1,118\":\n",
    "        df[\"People Left Homeless\"].iloc[i]=int(1118)  "
   ]
  },
  {
   "cell_type": "code",
   "execution_count": 15,
   "id": "7bcd6c77",
   "metadata": {},
   "outputs": [
    {
     "data": {
      "text/html": [
       "<div>\n",
       "<style scoped>\n",
       "    .dataframe tbody tr th:only-of-type {\n",
       "        vertical-align: middle;\n",
       "    }\n",
       "\n",
       "    .dataframe tbody tr th {\n",
       "        vertical-align: top;\n",
       "    }\n",
       "\n",
       "    .dataframe thead th {\n",
       "        text-align: right;\n",
       "    }\n",
       "</style>\n",
       "<table border=\"1\" class=\"dataframe\">\n",
       "  <thead>\n",
       "    <tr style=\"text-align: right;\">\n",
       "      <th></th>\n",
       "      <th>Year</th>\n",
       "      <th>Housing Units</th>\n",
       "      <th>People Left Homeless</th>\n",
       "      <th>Minors Left Homeless</th>\n",
       "      <th>Area</th>\n",
       "      <th>Type of Structure</th>\n",
       "      <th>District</th>\n",
       "    </tr>\n",
       "  </thead>\n",
       "  <tbody>\n",
       "    <tr>\n",
       "      <th>268</th>\n",
       "      <td>2004.0</td>\n",
       "      <td>8</td>\n",
       "      <td>66</td>\n",
       "      <td>0</td>\n",
       "      <td>Gaza Strip</td>\n",
       "      <td>Residential Structure</td>\n",
       "      <td>Rafah</td>\n",
       "    </tr>\n",
       "    <tr>\n",
       "      <th>245</th>\n",
       "      <td>2004.0</td>\n",
       "      <td>53</td>\n",
       "      <td>194</td>\n",
       "      <td>110</td>\n",
       "      <td>East Jerusalem</td>\n",
       "      <td>Residential Structure</td>\n",
       "      <td>East Jerusalem</td>\n",
       "    </tr>\n",
       "    <tr>\n",
       "      <th>246</th>\n",
       "      <td>2004.0</td>\n",
       "      <td>27</td>\n",
       "      <td>138</td>\n",
       "      <td>0</td>\n",
       "      <td>Gaza Strip</td>\n",
       "      <td>Residential Structure</td>\n",
       "      <td>Deir al-Balah</td>\n",
       "    </tr>\n",
       "    <tr>\n",
       "      <th>247</th>\n",
       "      <td>2004.0</td>\n",
       "      <td>64</td>\n",
       "      <td>123</td>\n",
       "      <td>0</td>\n",
       "      <td>Gaza Strip</td>\n",
       "      <td>Residential Structure</td>\n",
       "      <td>Gaza</td>\n",
       "    </tr>\n",
       "    <tr>\n",
       "      <th>248</th>\n",
       "      <td>2004.0</td>\n",
       "      <td>408</td>\n",
       "      <td>3023</td>\n",
       "      <td>0</td>\n",
       "      <td>Gaza Strip</td>\n",
       "      <td>Residential Structure</td>\n",
       "      <td>Khan Yunis</td>\n",
       "    </tr>\n",
       "    <tr>\n",
       "      <th>...</th>\n",
       "      <td>...</td>\n",
       "      <td>...</td>\n",
       "      <td>...</td>\n",
       "      <td>...</td>\n",
       "      <td>...</td>\n",
       "      <td>...</td>\n",
       "      <td>...</td>\n",
       "    </tr>\n",
       "    <tr>\n",
       "      <th>6</th>\n",
       "      <td>2021.0</td>\n",
       "      <td>1</td>\n",
       "      <td>0</td>\n",
       "      <td>0</td>\n",
       "      <td>The West Bank (Excluding East Jerusalem)</td>\n",
       "      <td>Residential Structure</td>\n",
       "      <td>Qalqiliya</td>\n",
       "    </tr>\n",
       "    <tr>\n",
       "      <th>0</th>\n",
       "      <td>2021.0</td>\n",
       "      <td>8</td>\n",
       "      <td>31</td>\n",
       "      <td>14</td>\n",
       "      <td>The West Bank (Excluding East Jerusalem)</td>\n",
       "      <td>Residential Structure</td>\n",
       "      <td>Al-Quds</td>\n",
       "    </tr>\n",
       "    <tr>\n",
       "      <th>269</th>\n",
       "      <td>NaN</td>\n",
       "      <td>NaN</td>\n",
       "      <td>NaN</td>\n",
       "      <td>NaN</td>\n",
       "      <td>NaN</td>\n",
       "      <td>NaN</td>\n",
       "      <td>NaN</td>\n",
       "    </tr>\n",
       "    <tr>\n",
       "      <th>270</th>\n",
       "      <td>NaN</td>\n",
       "      <td>NaN</td>\n",
       "      <td>NaN</td>\n",
       "      <td>NaN</td>\n",
       "      <td>NaN</td>\n",
       "      <td>NaN</td>\n",
       "      <td>NaN</td>\n",
       "    </tr>\n",
       "    <tr>\n",
       "      <th>271</th>\n",
       "      <td>NaN</td>\n",
       "      <td>5,498</td>\n",
       "      <td>25,730</td>\n",
       "      <td>5,998</td>\n",
       "      <td>NaN</td>\n",
       "      <td>NaN</td>\n",
       "      <td>NaN</td>\n",
       "    </tr>\n",
       "  </tbody>\n",
       "</table>\n",
       "<p>272 rows × 7 columns</p>\n",
       "</div>"
      ],
      "text/plain": [
       "       Year Housing Units People Left Homeless Minors Left Homeless  \\\n",
       "268  2004.0             8                   66                    0   \n",
       "245  2004.0            53                  194                  110   \n",
       "246  2004.0            27                  138                    0   \n",
       "247  2004.0            64                  123                    0   \n",
       "248  2004.0           408                 3023                    0   \n",
       "..      ...           ...                  ...                  ...   \n",
       "6    2021.0             1                    0                    0   \n",
       "0    2021.0             8                   31                   14   \n",
       "269     NaN           NaN                  NaN                  NaN   \n",
       "270     NaN           NaN                  NaN                  NaN   \n",
       "271     NaN         5,498               25,730                5,998   \n",
       "\n",
       "                                         Area      Type of Structure  \\\n",
       "268                                Gaza Strip  Residential Structure   \n",
       "245                            East Jerusalem  Residential Structure   \n",
       "246                                Gaza Strip  Residential Structure   \n",
       "247                                Gaza Strip  Residential Structure   \n",
       "248                                Gaza Strip  Residential Structure   \n",
       "..                                        ...                    ...   \n",
       "6    The West Bank (Excluding East Jerusalem)  Residential Structure   \n",
       "0    The West Bank (Excluding East Jerusalem)  Residential Structure   \n",
       "269                                       NaN                    NaN   \n",
       "270                                       NaN                    NaN   \n",
       "271                                       NaN                    NaN   \n",
       "\n",
       "           District  \n",
       "268           Rafah  \n",
       "245  East Jerusalem  \n",
       "246   Deir al-Balah  \n",
       "247            Gaza  \n",
       "248      Khan Yunis  \n",
       "..              ...  \n",
       "6         Qalqiliya  \n",
       "0           Al-Quds  \n",
       "269             NaN  \n",
       "270             NaN  \n",
       "271             NaN  \n",
       "\n",
       "[272 rows x 7 columns]"
      ]
     },
     "execution_count": 15,
     "metadata": {},
     "output_type": "execute_result"
    }
   ],
   "source": [
    "df"
   ]
  },
  {
   "cell_type": "code",
   "execution_count": 16,
   "id": "55800f7e",
   "metadata": {},
   "outputs": [],
   "source": [
    "df=df.dropna(axis=0)"
   ]
  },
  {
   "cell_type": "code",
   "execution_count": 17,
   "id": "93f7dce3",
   "metadata": {},
   "outputs": [
    {
     "data": {
      "text/html": [
       "<div>\n",
       "<style scoped>\n",
       "    .dataframe tbody tr th:only-of-type {\n",
       "        vertical-align: middle;\n",
       "    }\n",
       "\n",
       "    .dataframe tbody tr th {\n",
       "        vertical-align: top;\n",
       "    }\n",
       "\n",
       "    .dataframe thead th {\n",
       "        text-align: right;\n",
       "    }\n",
       "</style>\n",
       "<table border=\"1\" class=\"dataframe\">\n",
       "  <thead>\n",
       "    <tr style=\"text-align: right;\">\n",
       "      <th></th>\n",
       "      <th>Year</th>\n",
       "      <th>Housing Units</th>\n",
       "      <th>People Left Homeless</th>\n",
       "      <th>Minors Left Homeless</th>\n",
       "      <th>Area</th>\n",
       "      <th>Type of Structure</th>\n",
       "      <th>District</th>\n",
       "    </tr>\n",
       "  </thead>\n",
       "  <tbody>\n",
       "    <tr>\n",
       "      <th>268</th>\n",
       "      <td>2004.0</td>\n",
       "      <td>8</td>\n",
       "      <td>66</td>\n",
       "      <td>0</td>\n",
       "      <td>Gaza Strip</td>\n",
       "      <td>Residential Structure</td>\n",
       "      <td>Rafah</td>\n",
       "    </tr>\n",
       "    <tr>\n",
       "      <th>245</th>\n",
       "      <td>2004.0</td>\n",
       "      <td>53</td>\n",
       "      <td>194</td>\n",
       "      <td>110</td>\n",
       "      <td>East Jerusalem</td>\n",
       "      <td>Residential Structure</td>\n",
       "      <td>East Jerusalem</td>\n",
       "    </tr>\n",
       "    <tr>\n",
       "      <th>246</th>\n",
       "      <td>2004.0</td>\n",
       "      <td>27</td>\n",
       "      <td>138</td>\n",
       "      <td>0</td>\n",
       "      <td>Gaza Strip</td>\n",
       "      <td>Residential Structure</td>\n",
       "      <td>Deir al-Balah</td>\n",
       "    </tr>\n",
       "    <tr>\n",
       "      <th>247</th>\n",
       "      <td>2004.0</td>\n",
       "      <td>64</td>\n",
       "      <td>123</td>\n",
       "      <td>0</td>\n",
       "      <td>Gaza Strip</td>\n",
       "      <td>Residential Structure</td>\n",
       "      <td>Gaza</td>\n",
       "    </tr>\n",
       "    <tr>\n",
       "      <th>248</th>\n",
       "      <td>2004.0</td>\n",
       "      <td>408</td>\n",
       "      <td>3023</td>\n",
       "      <td>0</td>\n",
       "      <td>Gaza Strip</td>\n",
       "      <td>Residential Structure</td>\n",
       "      <td>Khan Yunis</td>\n",
       "    </tr>\n",
       "    <tr>\n",
       "      <th>...</th>\n",
       "      <td>...</td>\n",
       "      <td>...</td>\n",
       "      <td>...</td>\n",
       "      <td>...</td>\n",
       "      <td>...</td>\n",
       "      <td>...</td>\n",
       "      <td>...</td>\n",
       "    </tr>\n",
       "    <tr>\n",
       "      <th>9</th>\n",
       "      <td>2021.0</td>\n",
       "      <td>8</td>\n",
       "      <td>27</td>\n",
       "      <td>15</td>\n",
       "      <td>East Jerusalem</td>\n",
       "      <td>Residential Structure</td>\n",
       "      <td>East Jerusalem</td>\n",
       "    </tr>\n",
       "    <tr>\n",
       "      <th>11</th>\n",
       "      <td>2021.0</td>\n",
       "      <td>5</td>\n",
       "      <td>0</td>\n",
       "      <td>0</td>\n",
       "      <td>East Jerusalem</td>\n",
       "      <td>Non Residential Structure</td>\n",
       "      <td>East Jerusalem</td>\n",
       "    </tr>\n",
       "    <tr>\n",
       "      <th>12</th>\n",
       "      <td>2021.0</td>\n",
       "      <td>2</td>\n",
       "      <td>6</td>\n",
       "      <td>4</td>\n",
       "      <td>The West Bank (Excluding East Jerusalem)</td>\n",
       "      <td>Residential Structure</td>\n",
       "      <td>Jenin</td>\n",
       "    </tr>\n",
       "    <tr>\n",
       "      <th>6</th>\n",
       "      <td>2021.0</td>\n",
       "      <td>1</td>\n",
       "      <td>0</td>\n",
       "      <td>0</td>\n",
       "      <td>The West Bank (Excluding East Jerusalem)</td>\n",
       "      <td>Residential Structure</td>\n",
       "      <td>Qalqiliya</td>\n",
       "    </tr>\n",
       "    <tr>\n",
       "      <th>0</th>\n",
       "      <td>2021.0</td>\n",
       "      <td>8</td>\n",
       "      <td>31</td>\n",
       "      <td>14</td>\n",
       "      <td>The West Bank (Excluding East Jerusalem)</td>\n",
       "      <td>Residential Structure</td>\n",
       "      <td>Al-Quds</td>\n",
       "    </tr>\n",
       "  </tbody>\n",
       "</table>\n",
       "<p>268 rows × 7 columns</p>\n",
       "</div>"
      ],
      "text/plain": [
       "       Year Housing Units People Left Homeless Minors Left Homeless  \\\n",
       "268  2004.0             8                   66                    0   \n",
       "245  2004.0            53                  194                  110   \n",
       "246  2004.0            27                  138                    0   \n",
       "247  2004.0            64                  123                    0   \n",
       "248  2004.0           408                 3023                    0   \n",
       "..      ...           ...                  ...                  ...   \n",
       "9    2021.0             8                   27                   15   \n",
       "11   2021.0             5                    0                    0   \n",
       "12   2021.0             2                    6                    4   \n",
       "6    2021.0             1                    0                    0   \n",
       "0    2021.0             8                   31                   14   \n",
       "\n",
       "                                         Area          Type of Structure  \\\n",
       "268                                Gaza Strip      Residential Structure   \n",
       "245                            East Jerusalem      Residential Structure   \n",
       "246                                Gaza Strip      Residential Structure   \n",
       "247                                Gaza Strip      Residential Structure   \n",
       "248                                Gaza Strip      Residential Structure   \n",
       "..                                        ...                        ...   \n",
       "9                              East Jerusalem      Residential Structure   \n",
       "11                             East Jerusalem  Non Residential Structure   \n",
       "12   The West Bank (Excluding East Jerusalem)      Residential Structure   \n",
       "6    The West Bank (Excluding East Jerusalem)      Residential Structure   \n",
       "0    The West Bank (Excluding East Jerusalem)      Residential Structure   \n",
       "\n",
       "           District  \n",
       "268           Rafah  \n",
       "245  East Jerusalem  \n",
       "246   Deir al-Balah  \n",
       "247            Gaza  \n",
       "248      Khan Yunis  \n",
       "..              ...  \n",
       "9    East Jerusalem  \n",
       "11   East Jerusalem  \n",
       "12            Jenin  \n",
       "6         Qalqiliya  \n",
       "0           Al-Quds  \n",
       "\n",
       "[268 rows x 7 columns]"
      ]
     },
     "execution_count": 17,
     "metadata": {},
     "output_type": "execute_result"
    }
   ],
   "source": [
    "df"
   ]
  },
  {
   "cell_type": "code",
   "execution_count": 18,
   "id": "dbcf4e84",
   "metadata": {},
   "outputs": [
    {
     "name": "stderr",
     "output_type": "stream",
     "text": [
      "<ipython-input-18-70d57527b2b0>:1: SettingWithCopyWarning: \n",
      "A value is trying to be set on a copy of a slice from a DataFrame.\n",
      "Try using .loc[row_indexer,col_indexer] = value instead\n",
      "\n",
      "See the caveats in the documentation: https://pandas.pydata.org/pandas-docs/stable/user_guide/indexing.html#returning-a-view-versus-a-copy\n",
      "  df[\"Year\"]=df[\"Year\"].apply(int)\n",
      "<ipython-input-18-70d57527b2b0>:2: SettingWithCopyWarning: \n",
      "A value is trying to be set on a copy of a slice from a DataFrame.\n",
      "Try using .loc[row_indexer,col_indexer] = value instead\n",
      "\n",
      "See the caveats in the documentation: https://pandas.pydata.org/pandas-docs/stable/user_guide/indexing.html#returning-a-view-versus-a-copy\n",
      "  df[\"Housing Units\"]=df[\"Housing Units\"].apply(int)\n",
      "<ipython-input-18-70d57527b2b0>:3: SettingWithCopyWarning: \n",
      "A value is trying to be set on a copy of a slice from a DataFrame.\n",
      "Try using .loc[row_indexer,col_indexer] = value instead\n",
      "\n",
      "See the caveats in the documentation: https://pandas.pydata.org/pandas-docs/stable/user_guide/indexing.html#returning-a-view-versus-a-copy\n",
      "  df[\"Minors Left Homeless\"]=df[\"Minors Left Homeless\"].apply(int)\n",
      "<ipython-input-18-70d57527b2b0>:4: SettingWithCopyWarning: \n",
      "A value is trying to be set on a copy of a slice from a DataFrame.\n",
      "Try using .loc[row_indexer,col_indexer] = value instead\n",
      "\n",
      "See the caveats in the documentation: https://pandas.pydata.org/pandas-docs/stable/user_guide/indexing.html#returning-a-view-versus-a-copy\n",
      "  df[\"People Left Homeless\"]=df[\"People Left Homeless\"].apply(int)\n"
     ]
    }
   ],
   "source": [
    "df[\"Year\"]=df[\"Year\"].apply(int)\n",
    "df[\"Housing Units\"]=df[\"Housing Units\"].apply(int)\n",
    "df[\"Minors Left Homeless\"]=df[\"Minors Left Homeless\"].apply(int)\n",
    "df[\"People Left Homeless\"]=df[\"People Left Homeless\"].apply(int)"
   ]
  },
  {
   "cell_type": "markdown",
   "id": "f557d042",
   "metadata": {},
   "source": [
    "### CREATING NEW COLUMNS FOR BETTER CASUALTY ANALYSIS"
   ]
  },
  {
   "cell_type": "code",
   "execution_count": 19,
   "id": "9bfc0a57",
   "metadata": {},
   "outputs": [],
   "source": [
    "df1[\"Palestinian Casualties\"]=(df1[\"Palestinians Killed\"]+df1[\"Palestinians Injuries\"])\n",
    "df1[\"Israelis Casualties\"]=(df1[\"Israelis Killed\"]+df1[\"Israelis Injuries\"])\n",
    "df1[\"Total Casualties\"]=(df1[\"Palestinian Casualties\"]+df1[\"Israelis Casualties\"])"
   ]
  },
  {
   "cell_type": "code",
   "execution_count": 20,
   "id": "b2e6d48d",
   "metadata": {},
   "outputs": [
    {
     "data": {
      "text/html": [
       "<div>\n",
       "<style scoped>\n",
       "    .dataframe tbody tr th:only-of-type {\n",
       "        vertical-align: middle;\n",
       "    }\n",
       "\n",
       "    .dataframe tbody tr th {\n",
       "        vertical-align: top;\n",
       "    }\n",
       "\n",
       "    .dataframe thead th {\n",
       "        text-align: right;\n",
       "    }\n",
       "</style>\n",
       "<table border=\"1\" class=\"dataframe\">\n",
       "  <thead>\n",
       "    <tr style=\"text-align: right;\">\n",
       "      <th></th>\n",
       "      <th>Year</th>\n",
       "      <th>Month</th>\n",
       "      <th>Palestinians Injuries</th>\n",
       "      <th>Israelis Injuries</th>\n",
       "      <th>Palestinians Killed</th>\n",
       "      <th>Israelis Killed</th>\n",
       "      <th>Palestinian Casualties</th>\n",
       "      <th>Israelis Casualties</th>\n",
       "      <th>Total Casualties</th>\n",
       "    </tr>\n",
       "  </thead>\n",
       "  <tbody>\n",
       "    <tr>\n",
       "      <th>0</th>\n",
       "      <td>2000</td>\n",
       "      <td>DECEMBER</td>\n",
       "      <td>781</td>\n",
       "      <td>0</td>\n",
       "      <td>51</td>\n",
       "      <td>8</td>\n",
       "      <td>832</td>\n",
       "      <td>8</td>\n",
       "      <td>840</td>\n",
       "    </tr>\n",
       "    <tr>\n",
       "      <th>1</th>\n",
       "      <td>2000</td>\n",
       "      <td>NOVEMBER</td>\n",
       "      <td>3838</td>\n",
       "      <td>0</td>\n",
       "      <td>112</td>\n",
       "      <td>22</td>\n",
       "      <td>3950</td>\n",
       "      <td>22</td>\n",
       "      <td>3972</td>\n",
       "    </tr>\n",
       "    <tr>\n",
       "      <th>2</th>\n",
       "      <td>2000</td>\n",
       "      <td>OCTOBER</td>\n",
       "      <td>5984</td>\n",
       "      <td>0</td>\n",
       "      <td>104</td>\n",
       "      <td>10</td>\n",
       "      <td>6088</td>\n",
       "      <td>10</td>\n",
       "      <td>6098</td>\n",
       "    </tr>\n",
       "    <tr>\n",
       "      <th>3</th>\n",
       "      <td>2000</td>\n",
       "      <td>SEPTEMBER</td>\n",
       "      <td>0</td>\n",
       "      <td>0</td>\n",
       "      <td>16</td>\n",
       "      <td>1</td>\n",
       "      <td>16</td>\n",
       "      <td>1</td>\n",
       "      <td>17</td>\n",
       "    </tr>\n",
       "    <tr>\n",
       "      <th>15</th>\n",
       "      <td>2001</td>\n",
       "      <td>JANUARY</td>\n",
       "      <td>471</td>\n",
       "      <td>0</td>\n",
       "      <td>19</td>\n",
       "      <td>6</td>\n",
       "      <td>490</td>\n",
       "      <td>6</td>\n",
       "      <td>496</td>\n",
       "    </tr>\n",
       "  </tbody>\n",
       "</table>\n",
       "</div>"
      ],
      "text/plain": [
       "    Year      Month  Palestinians Injuries  Israelis Injuries  \\\n",
       "0   2000   DECEMBER                    781                  0   \n",
       "1   2000   NOVEMBER                   3838                  0   \n",
       "2   2000    OCTOBER                   5984                  0   \n",
       "3   2000  SEPTEMBER                      0                  0   \n",
       "15  2001    JANUARY                    471                  0   \n",
       "\n",
       "    Palestinians Killed  Israelis Killed  Palestinian Casualties  \\\n",
       "0                    51                8                     832   \n",
       "1                   112               22                    3950   \n",
       "2                   104               10                    6088   \n",
       "3                    16                1                      16   \n",
       "15                   19                6                     490   \n",
       "\n",
       "    Israelis Casualties  Total Casualties  \n",
       "0                     8               840  \n",
       "1                    22              3972  \n",
       "2                    10              6098  \n",
       "3                     1                17  \n",
       "15                    6               496  "
      ]
     },
     "execution_count": 20,
     "metadata": {},
     "output_type": "execute_result"
    }
   ],
   "source": [
    "df1.head()"
   ]
  },
  {
   "cell_type": "code",
   "execution_count": 21,
   "id": "b302df24",
   "metadata": {},
   "outputs": [
    {
     "name": "stdout",
     "output_type": "stream",
     "text": [
      "<class 'pandas.core.frame.DataFrame'>\n",
      "Int64Index: 249 entries, 0 to 248\n",
      "Data columns (total 9 columns):\n",
      " #   Column                  Non-Null Count  Dtype \n",
      "---  ------                  --------------  ----- \n",
      " 0   Year                    249 non-null    int64 \n",
      " 1   Month                   249 non-null    object\n",
      " 2   Palestinians Injuries   249 non-null    int64 \n",
      " 3   Israelis Injuries       249 non-null    int64 \n",
      " 4   Palestinians Killed     249 non-null    int64 \n",
      " 5   Israelis Killed         249 non-null    int64 \n",
      " 6   Palestinian Casualties  249 non-null    int64 \n",
      " 7   Israelis Casualties     249 non-null    int64 \n",
      " 8   Total Casualties        249 non-null    int64 \n",
      "dtypes: int64(8), object(1)\n",
      "memory usage: 19.5+ KB\n"
     ]
    }
   ],
   "source": [
    "df1.info()"
   ]
  },
  {
   "cell_type": "code",
   "execution_count": 22,
   "id": "c3216c9d",
   "metadata": {},
   "outputs": [
    {
     "data": {
      "text/plain": [
       "Year                    0\n",
       "Housing Units           0\n",
       "People Left Homeless    0\n",
       "Minors Left Homeless    0\n",
       "Area                    0\n",
       "Type of Structure       0\n",
       "District                0\n",
       "dtype: int64"
      ]
     },
     "execution_count": 22,
     "metadata": {},
     "output_type": "execute_result"
    }
   ],
   "source": [
    "df.isnull().sum()"
   ]
  },
  {
   "cell_type": "markdown",
   "id": "7cfc974b",
   "metadata": {},
   "source": [
    "# DATA ANALYSIS & STORYTELLING"
   ]
  },
  {
   "cell_type": "code",
   "execution_count": 23,
   "id": "c0e824ee",
   "metadata": {},
   "outputs": [
    {
     "data": {
      "text/html": [
       "<div>\n",
       "<style scoped>\n",
       "    .dataframe tbody tr th:only-of-type {\n",
       "        vertical-align: middle;\n",
       "    }\n",
       "\n",
       "    .dataframe tbody tr th {\n",
       "        vertical-align: top;\n",
       "    }\n",
       "\n",
       "    .dataframe thead th {\n",
       "        text-align: right;\n",
       "    }\n",
       "</style>\n",
       "<table border=\"1\" class=\"dataframe\">\n",
       "  <thead>\n",
       "    <tr style=\"text-align: right;\">\n",
       "      <th></th>\n",
       "      <th>Housing Units</th>\n",
       "      <th>People Left Homeless</th>\n",
       "      <th>Minors Left Homeless</th>\n",
       "    </tr>\n",
       "    <tr>\n",
       "      <th>Year</th>\n",
       "      <th></th>\n",
       "      <th></th>\n",
       "      <th></th>\n",
       "    </tr>\n",
       "  </thead>\n",
       "  <tbody>\n",
       "    <tr>\n",
       "      <th>2004</th>\n",
       "      <td>1633</td>\n",
       "      <td>11805</td>\n",
       "      <td>110</td>\n",
       "    </tr>\n",
       "    <tr>\n",
       "      <th>2005</th>\n",
       "      <td>89</td>\n",
       "      <td>214</td>\n",
       "      <td>78</td>\n",
       "    </tr>\n",
       "    <tr>\n",
       "      <th>2006</th>\n",
       "      <td>448</td>\n",
       "      <td>2473</td>\n",
       "      <td>96</td>\n",
       "    </tr>\n",
       "    <tr>\n",
       "      <th>2007</th>\n",
       "      <td>146</td>\n",
       "      <td>668</td>\n",
       "      <td>340</td>\n",
       "    </tr>\n",
       "    <tr>\n",
       "      <th>2008</th>\n",
       "      <td>162</td>\n",
       "      <td>772</td>\n",
       "      <td>422</td>\n",
       "    </tr>\n",
       "    <tr>\n",
       "      <th>2009</th>\n",
       "      <td>77</td>\n",
       "      <td>502</td>\n",
       "      <td>207</td>\n",
       "    </tr>\n",
       "    <tr>\n",
       "      <th>2010</th>\n",
       "      <td>122</td>\n",
       "      <td>612</td>\n",
       "      <td>302</td>\n",
       "    </tr>\n",
       "    <tr>\n",
       "      <th>2011</th>\n",
       "      <td>182</td>\n",
       "      <td>979</td>\n",
       "      <td>463</td>\n",
       "    </tr>\n",
       "    <tr>\n",
       "      <th>2012</th>\n",
       "      <td>147</td>\n",
       "      <td>633</td>\n",
       "      <td>326</td>\n",
       "    </tr>\n",
       "    <tr>\n",
       "      <th>2013</th>\n",
       "      <td>276</td>\n",
       "      <td>838</td>\n",
       "      <td>451</td>\n",
       "    </tr>\n",
       "    <tr>\n",
       "      <th>2014</th>\n",
       "      <td>259</td>\n",
       "      <td>925</td>\n",
       "      <td>488</td>\n",
       "    </tr>\n",
       "    <tr>\n",
       "      <th>2015</th>\n",
       "      <td>225</td>\n",
       "      <td>664</td>\n",
       "      <td>381</td>\n",
       "    </tr>\n",
       "    <tr>\n",
       "      <th>2016</th>\n",
       "      <td>450</td>\n",
       "      <td>1620</td>\n",
       "      <td>809</td>\n",
       "    </tr>\n",
       "    <tr>\n",
       "      <th>2017</th>\n",
       "      <td>221</td>\n",
       "      <td>564</td>\n",
       "      <td>310</td>\n",
       "    </tr>\n",
       "    <tr>\n",
       "      <th>2018</th>\n",
       "      <td>226</td>\n",
       "      <td>443</td>\n",
       "      <td>196</td>\n",
       "    </tr>\n",
       "    <tr>\n",
       "      <th>2019</th>\n",
       "      <td>381</td>\n",
       "      <td>713</td>\n",
       "      <td>357</td>\n",
       "    </tr>\n",
       "    <tr>\n",
       "      <th>2020</th>\n",
       "      <td>323</td>\n",
       "      <td>1011</td>\n",
       "      <td>512</td>\n",
       "    </tr>\n",
       "    <tr>\n",
       "      <th>2021</th>\n",
       "      <td>130</td>\n",
       "      <td>294</td>\n",
       "      <td>150</td>\n",
       "    </tr>\n",
       "  </tbody>\n",
       "</table>\n",
       "</div>"
      ],
      "text/plain": [
       "      Housing Units  People Left Homeless  Minors Left Homeless\n",
       "Year                                                           \n",
       "2004           1633                 11805                   110\n",
       "2005             89                   214                    78\n",
       "2006            448                  2473                    96\n",
       "2007            146                   668                   340\n",
       "2008            162                   772                   422\n",
       "2009             77                   502                   207\n",
       "2010            122                   612                   302\n",
       "2011            182                   979                   463\n",
       "2012            147                   633                   326\n",
       "2013            276                   838                   451\n",
       "2014            259                   925                   488\n",
       "2015            225                   664                   381\n",
       "2016            450                  1620                   809\n",
       "2017            221                   564                   310\n",
       "2018            226                   443                   196\n",
       "2019            381                   713                   357\n",
       "2020            323                  1011                   512\n",
       "2021            130                   294                   150"
      ]
     },
     "execution_count": 23,
     "metadata": {},
     "output_type": "execute_result"
    }
   ],
   "source": [
    "dfnet=df.groupby(['Year']).sum()\n",
    "df1net=df1.groupby(['Year']).sum()\n",
    "dfnet"
   ]
  },
  {
   "cell_type": "code",
   "execution_count": 24,
   "id": "92287b36",
   "metadata": {},
   "outputs": [
    {
     "data": {
      "text/html": [
       "<div>\n",
       "<style scoped>\n",
       "    .dataframe tbody tr th:only-of-type {\n",
       "        vertical-align: middle;\n",
       "    }\n",
       "\n",
       "    .dataframe tbody tr th {\n",
       "        vertical-align: top;\n",
       "    }\n",
       "\n",
       "    .dataframe thead th {\n",
       "        text-align: right;\n",
       "    }\n",
       "</style>\n",
       "<table border=\"1\" class=\"dataframe\">\n",
       "  <thead>\n",
       "    <tr style=\"text-align: right;\">\n",
       "      <th></th>\n",
       "      <th>Palestinians Injuries</th>\n",
       "      <th>Israelis Injuries</th>\n",
       "      <th>Palestinians Killed</th>\n",
       "      <th>Israelis Killed</th>\n",
       "      <th>Palestinian Casualties</th>\n",
       "      <th>Israelis Casualties</th>\n",
       "      <th>Total Casualties</th>\n",
       "    </tr>\n",
       "    <tr>\n",
       "      <th>Year</th>\n",
       "      <th></th>\n",
       "      <th></th>\n",
       "      <th></th>\n",
       "      <th></th>\n",
       "      <th></th>\n",
       "      <th></th>\n",
       "      <th></th>\n",
       "    </tr>\n",
       "  </thead>\n",
       "  <tbody>\n",
       "    <tr>\n",
       "      <th>2000</th>\n",
       "      <td>10603</td>\n",
       "      <td>0</td>\n",
       "      <td>283</td>\n",
       "      <td>41</td>\n",
       "      <td>10886</td>\n",
       "      <td>41</td>\n",
       "      <td>10927</td>\n",
       "    </tr>\n",
       "    <tr>\n",
       "      <th>2001</th>\n",
       "      <td>6386</td>\n",
       "      <td>0</td>\n",
       "      <td>470</td>\n",
       "      <td>192</td>\n",
       "      <td>6856</td>\n",
       "      <td>192</td>\n",
       "      <td>7048</td>\n",
       "    </tr>\n",
       "    <tr>\n",
       "      <th>2002</th>\n",
       "      <td>4382</td>\n",
       "      <td>0</td>\n",
       "      <td>1032</td>\n",
       "      <td>419</td>\n",
       "      <td>5414</td>\n",
       "      <td>419</td>\n",
       "      <td>5833</td>\n",
       "    </tr>\n",
       "    <tr>\n",
       "      <th>2003</th>\n",
       "      <td>2992</td>\n",
       "      <td>0</td>\n",
       "      <td>588</td>\n",
       "      <td>185</td>\n",
       "      <td>3580</td>\n",
       "      <td>185</td>\n",
       "      <td>3765</td>\n",
       "    </tr>\n",
       "    <tr>\n",
       "      <th>2004</th>\n",
       "      <td>4009</td>\n",
       "      <td>0</td>\n",
       "      <td>786</td>\n",
       "      <td>104</td>\n",
       "      <td>4795</td>\n",
       "      <td>104</td>\n",
       "      <td>4899</td>\n",
       "    </tr>\n",
       "    <tr>\n",
       "      <th>2005</th>\n",
       "      <td>1385</td>\n",
       "      <td>493</td>\n",
       "      <td>190</td>\n",
       "      <td>51</td>\n",
       "      <td>1575</td>\n",
       "      <td>544</td>\n",
       "      <td>2119</td>\n",
       "    </tr>\n",
       "    <tr>\n",
       "      <th>2006</th>\n",
       "      <td>3199</td>\n",
       "      <td>377</td>\n",
       "      <td>665</td>\n",
       "      <td>20</td>\n",
       "      <td>3864</td>\n",
       "      <td>397</td>\n",
       "      <td>4261</td>\n",
       "    </tr>\n",
       "    <tr>\n",
       "      <th>2007</th>\n",
       "      <td>15426</td>\n",
       "      <td>322</td>\n",
       "      <td>385</td>\n",
       "      <td>12</td>\n",
       "      <td>15811</td>\n",
       "      <td>334</td>\n",
       "      <td>16145</td>\n",
       "    </tr>\n",
       "    <tr>\n",
       "      <th>2008</th>\n",
       "      <td>0</td>\n",
       "      <td>0</td>\n",
       "      <td>886</td>\n",
       "      <td>39</td>\n",
       "      <td>886</td>\n",
       "      <td>39</td>\n",
       "      <td>925</td>\n",
       "    </tr>\n",
       "    <tr>\n",
       "      <th>2009</th>\n",
       "      <td>6471</td>\n",
       "      <td>0</td>\n",
       "      <td>1036</td>\n",
       "      <td>9</td>\n",
       "      <td>7507</td>\n",
       "      <td>9</td>\n",
       "      <td>7516</td>\n",
       "    </tr>\n",
       "    <tr>\n",
       "      <th>2010</th>\n",
       "      <td>1539</td>\n",
       "      <td>176</td>\n",
       "      <td>82</td>\n",
       "      <td>9</td>\n",
       "      <td>1621</td>\n",
       "      <td>185</td>\n",
       "      <td>1806</td>\n",
       "    </tr>\n",
       "    <tr>\n",
       "      <th>2011</th>\n",
       "      <td>2110</td>\n",
       "      <td>124</td>\n",
       "      <td>117</td>\n",
       "      <td>10</td>\n",
       "      <td>2227</td>\n",
       "      <td>134</td>\n",
       "      <td>2361</td>\n",
       "    </tr>\n",
       "    <tr>\n",
       "      <th>2012</th>\n",
       "      <td>4894</td>\n",
       "      <td>345</td>\n",
       "      <td>255</td>\n",
       "      <td>7</td>\n",
       "      <td>5149</td>\n",
       "      <td>352</td>\n",
       "      <td>5501</td>\n",
       "    </tr>\n",
       "    <tr>\n",
       "      <th>2013</th>\n",
       "      <td>3964</td>\n",
       "      <td>151</td>\n",
       "      <td>38</td>\n",
       "      <td>6</td>\n",
       "      <td>4002</td>\n",
       "      <td>157</td>\n",
       "      <td>4159</td>\n",
       "    </tr>\n",
       "    <tr>\n",
       "      <th>2014</th>\n",
       "      <td>16799</td>\n",
       "      <td>2534</td>\n",
       "      <td>2279</td>\n",
       "      <td>85</td>\n",
       "      <td>19078</td>\n",
       "      <td>2619</td>\n",
       "      <td>21697</td>\n",
       "    </tr>\n",
       "    <tr>\n",
       "      <th>2015</th>\n",
       "      <td>15477</td>\n",
       "      <td>304</td>\n",
       "      <td>188</td>\n",
       "      <td>24</td>\n",
       "      <td>15665</td>\n",
       "      <td>328</td>\n",
       "      <td>15993</td>\n",
       "    </tr>\n",
       "    <tr>\n",
       "      <th>2016</th>\n",
       "      <td>3429</td>\n",
       "      <td>171</td>\n",
       "      <td>115</td>\n",
       "      <td>12</td>\n",
       "      <td>3544</td>\n",
       "      <td>183</td>\n",
       "      <td>3727</td>\n",
       "    </tr>\n",
       "    <tr>\n",
       "      <th>2017</th>\n",
       "      <td>7949</td>\n",
       "      <td>156</td>\n",
       "      <td>96</td>\n",
       "      <td>19</td>\n",
       "      <td>8045</td>\n",
       "      <td>175</td>\n",
       "      <td>8220</td>\n",
       "    </tr>\n",
       "    <tr>\n",
       "      <th>2018</th>\n",
       "      <td>0</td>\n",
       "      <td>0</td>\n",
       "      <td>290</td>\n",
       "      <td>14</td>\n",
       "      <td>290</td>\n",
       "      <td>14</td>\n",
       "      <td>304</td>\n",
       "    </tr>\n",
       "    <tr>\n",
       "      <th>2019</th>\n",
       "      <td>0</td>\n",
       "      <td>0</td>\n",
       "      <td>149</td>\n",
       "      <td>11</td>\n",
       "      <td>149</td>\n",
       "      <td>11</td>\n",
       "      <td>160</td>\n",
       "    </tr>\n",
       "    <tr>\n",
       "      <th>2020</th>\n",
       "      <td>0</td>\n",
       "      <td>0</td>\n",
       "      <td>34</td>\n",
       "      <td>3</td>\n",
       "      <td>34</td>\n",
       "      <td>3</td>\n",
       "      <td>37</td>\n",
       "    </tr>\n",
       "    <tr>\n",
       "      <th>2021</th>\n",
       "      <td>0</td>\n",
       "      <td>0</td>\n",
       "      <td>36</td>\n",
       "      <td>3</td>\n",
       "      <td>36</td>\n",
       "      <td>3</td>\n",
       "      <td>39</td>\n",
       "    </tr>\n",
       "  </tbody>\n",
       "</table>\n",
       "</div>"
      ],
      "text/plain": [
       "      Palestinians Injuries  Israelis Injuries  Palestinians Killed  \\\n",
       "Year                                                                  \n",
       "2000                  10603                  0                  283   \n",
       "2001                   6386                  0                  470   \n",
       "2002                   4382                  0                 1032   \n",
       "2003                   2992                  0                  588   \n",
       "2004                   4009                  0                  786   \n",
       "2005                   1385                493                  190   \n",
       "2006                   3199                377                  665   \n",
       "2007                  15426                322                  385   \n",
       "2008                      0                  0                  886   \n",
       "2009                   6471                  0                 1036   \n",
       "2010                   1539                176                   82   \n",
       "2011                   2110                124                  117   \n",
       "2012                   4894                345                  255   \n",
       "2013                   3964                151                   38   \n",
       "2014                  16799               2534                 2279   \n",
       "2015                  15477                304                  188   \n",
       "2016                   3429                171                  115   \n",
       "2017                   7949                156                   96   \n",
       "2018                      0                  0                  290   \n",
       "2019                      0                  0                  149   \n",
       "2020                      0                  0                   34   \n",
       "2021                      0                  0                   36   \n",
       "\n",
       "      Israelis Killed  Palestinian Casualties  Israelis Casualties  \\\n",
       "Year                                                                 \n",
       "2000               41                   10886                   41   \n",
       "2001              192                    6856                  192   \n",
       "2002              419                    5414                  419   \n",
       "2003              185                    3580                  185   \n",
       "2004              104                    4795                  104   \n",
       "2005               51                    1575                  544   \n",
       "2006               20                    3864                  397   \n",
       "2007               12                   15811                  334   \n",
       "2008               39                     886                   39   \n",
       "2009                9                    7507                    9   \n",
       "2010                9                    1621                  185   \n",
       "2011               10                    2227                  134   \n",
       "2012                7                    5149                  352   \n",
       "2013                6                    4002                  157   \n",
       "2014               85                   19078                 2619   \n",
       "2015               24                   15665                  328   \n",
       "2016               12                    3544                  183   \n",
       "2017               19                    8045                  175   \n",
       "2018               14                     290                   14   \n",
       "2019               11                     149                   11   \n",
       "2020                3                      34                    3   \n",
       "2021                3                      36                    3   \n",
       "\n",
       "      Total Casualties  \n",
       "Year                    \n",
       "2000             10927  \n",
       "2001              7048  \n",
       "2002              5833  \n",
       "2003              3765  \n",
       "2004              4899  \n",
       "2005              2119  \n",
       "2006              4261  \n",
       "2007             16145  \n",
       "2008               925  \n",
       "2009              7516  \n",
       "2010              1806  \n",
       "2011              2361  \n",
       "2012              5501  \n",
       "2013              4159  \n",
       "2014             21697  \n",
       "2015             15993  \n",
       "2016              3727  \n",
       "2017              8220  \n",
       "2018               304  \n",
       "2019               160  \n",
       "2020                37  \n",
       "2021                39  "
      ]
     },
     "execution_count": 24,
     "metadata": {},
     "output_type": "execute_result"
    }
   ],
   "source": [
    "df1net"
   ]
  },
  {
   "cell_type": "code",
   "execution_count": 25,
   "id": "7c77c77c",
   "metadata": {},
   "outputs": [
    {
     "data": {
      "text/plain": [
       "127442"
      ]
     },
     "execution_count": 25,
     "metadata": {},
     "output_type": "execute_result"
    }
   ],
   "source": [
    "df1net[\"Total Casualties\"].sum()"
   ]
  },
  {
   "cell_type": "code",
   "execution_count": 26,
   "id": "b6f32447",
   "metadata": {},
   "outputs": [
    {
     "data": {
      "text/plain": [
       "1275"
      ]
     },
     "execution_count": 26,
     "metadata": {},
     "output_type": "execute_result"
    }
   ],
   "source": [
    "df1net[\"Israelis Killed\"].sum()"
   ]
  },
  {
   "cell_type": "code",
   "execution_count": 27,
   "id": "2e9587e9",
   "metadata": {},
   "outputs": [
    {
     "data": {
      "text/plain": [
       "10000"
      ]
     },
     "execution_count": 27,
     "metadata": {},
     "output_type": "execute_result"
    }
   ],
   "source": [
    "df1net[\"Palestinians Killed\"].sum()"
   ]
  },
  {
   "cell_type": "code",
   "execution_count": 28,
   "id": "327fc937",
   "metadata": {},
   "outputs": [
    {
     "data": {
      "text/plain": [
       "25730"
      ]
     },
     "execution_count": 28,
     "metadata": {},
     "output_type": "execute_result"
    }
   ],
   "source": [
    "dfnet[\"People Left Homeless\"].sum()"
   ]
  },
  {
   "cell_type": "code",
   "execution_count": 29,
   "id": "2660bb8d",
   "metadata": {},
   "outputs": [
    {
     "data": {
      "text/plain": [
       "5998"
      ]
     },
     "execution_count": 29,
     "metadata": {},
     "output_type": "execute_result"
    }
   ],
   "source": [
    "dfnet[\"Minors Left Homeless\"].sum()"
   ]
  },
  {
   "cell_type": "code",
   "execution_count": 30,
   "id": "4e59a76f",
   "metadata": {},
   "outputs": [
    {
     "data": {
      "text/plain": [
       "5497"
      ]
     },
     "execution_count": 30,
     "metadata": {},
     "output_type": "execute_result"
    }
   ],
   "source": [
    "dfnet[\"Housing Units\"].sum()"
   ]
  },
  {
   "cell_type": "markdown",
   "id": "bc7308dd",
   "metadata": {},
   "source": [
    "## Basic Overview Statistics Of Conflict\n",
    "###  127442 People have been killed or injured in the last 20 years of conflict\n",
    "###  1275 Israelis have been killed in the last 20 years of conflict\n",
    "###  10000 Palestinians have been killed in the last 20 years of conflict\n",
    "###  25730 People have been left homeless in the last 20 years of conflict\n",
    "### 5998 Minors have been left homeless in the last 20 years of conflict\n",
    "###  5497 Housing Units have been demolished somehow due to the conflict"
   ]
  },
  {
   "cell_type": "code",
   "execution_count": 31,
   "id": "310b8b7b",
   "metadata": {},
   "outputs": [
    {
     "name": "stdout",
     "output_type": "stream",
     "text": [
      "Percentage Of Israeli Deaths Is 11.30820399113082\n",
      "Percentage Of Palestinians Deaths Is 88.69179600886918\n"
     ]
    }
   ],
   "source": [
    "Isr=1275\n",
    "Pal=10000\n",
    "print(\"Percentage Of Israeli Deaths Is\",Isr*100/(Isr+Pal))\n",
    "print(\"Percentage Of Palestinians Deaths Is\",Pal*100/(Isr+Pal))"
   ]
  },
  {
   "cell_type": "markdown",
   "id": "2e15c801",
   "metadata": {},
   "source": [
    "Israeli Deaths Comprised Of 11.3% Of Overall Deaths"
   ]
  },
  {
   "cell_type": "markdown",
   "id": "a42a4ab0",
   "metadata": {},
   "source": [
    "Palestinian Deaths Comprised Of 88.6% Of Overall Deaths"
   ]
  },
  {
   "cell_type": "code",
   "execution_count": 32,
   "id": "30d0d4d8",
   "metadata": {},
   "outputs": [
    {
     "data": {
      "text/plain": [
       "<seaborn.axisgrid.FacetGrid at 0x1ab7891c6d0>"
      ]
     },
     "execution_count": 32,
     "metadata": {},
     "output_type": "execute_result"
    },
    {
     "data": {
      "image/png": "[encoded data removed]",
      "text/plain": [
       "<Figure size 720x360 with 1 Axes>"
      ]
     },
     "metadata": {
      "needs_background": "light"
     },
     "output_type": "display_data"
    }
   ],
   "source": [
    "sns.catplot(x='Year', y='Israelis Injuries', data=df1, palette='magma',aspect=2,kind=\"bar\")"
   ]
  },
  {
   "cell_type": "code",
   "execution_count": 33,
   "id": "55d4b970",
   "metadata": {},
   "outputs": [
    {
     "data": {
      "text/plain": [
       "<seaborn.axisgrid.FacetGrid at 0x1ab78c8e580>"
      ]
     },
     "execution_count": 33,
     "metadata": {},
     "output_type": "execute_result"
    },
    {
     "data": {
      "image/png": "[encoded data removed]",
      "text/plain": [
       "<Figure size 720x360 with 1 Axes>"
      ]
     },
     "metadata": {
      "needs_background": "light"
     },
     "output_type": "display_data"
    }
   ],
   "source": [
    "sns.catplot(x='Year', y='Palestinians Injuries', data=df1, palette='magma',aspect=2,kind=\"bar\")"
   ]
  },
  {
   "cell_type": "code",
   "execution_count": 34,
   "id": "56961d0e",
   "metadata": {},
   "outputs": [
    {
     "data": {
      "text/plain": [
       "<seaborn.axisgrid.FacetGrid at 0x1ab78a8f910>"
      ]
     },
     "execution_count": 34,
     "metadata": {},
     "output_type": "execute_result"
    },
    {
     "data": {
      "image/png": "[encoded data removed]",
      "text/plain": [
       "<Figure size 720x360 with 1 Axes>"
      ]
     },
     "metadata": {
      "needs_background": "light"
     },
     "output_type": "display_data"
    }
   ],
   "source": [
    "sns.catplot(x='Year', y='Israelis Killed', data=df1, palette='magma',aspect=2,kind=\"bar\")"
   ]
  },
  {
   "cell_type": "code",
   "execution_count": 35,
   "id": "c7743fb5",
   "metadata": {},
   "outputs": [
    {
     "data": {
      "text/plain": [
       "<seaborn.axisgrid.FacetGrid at 0x1ab78fa7b80>"
      ]
     },
     "execution_count": 35,
     "metadata": {},
     "output_type": "execute_result"
    },
    {
     "data": {
      "image/png": "[encoded data removed]",
      "text/plain": [
       "<Figure size 720x360 with 1 Axes>"
      ]
     },
     "metadata": {
      "needs_background": "light"
     },
     "output_type": "display_data"
    }
   ],
   "source": [
    "sns.catplot(x='Year', y='Israelis Killed', data=df1, color='red',aspect=2,kind=\"point\")"
   ]
  },
  {
   "cell_type": "code",
   "execution_count": 36,
   "id": "025cb8c8",
   "metadata": {},
   "outputs": [
    {
     "data": {
      "text/plain": [
       "<seaborn.axisgrid.FacetGrid at 0x1ab78fa78e0>"
      ]
     },
     "execution_count": 36,
     "metadata": {},
     "output_type": "execute_result"
    },
    {
     "data": {
      "image/png": "[encoded data removed]",
      "text/plain": [
       "<Figure size 720x360 with 1 Axes>"
      ]
     },
     "metadata": {
      "needs_background": "light"
     },
     "output_type": "display_data"
    }
   ],
   "source": [
    "sns.catplot(x='Year', y='Palestinians Killed', data=df1, palette='magma',aspect=2,kind=\"bar\")"
   ]
  },
  {
   "cell_type": "code",
   "execution_count": 37,
   "id": "2b419a68",
   "metadata": {},
   "outputs": [
    {
     "data": {
      "text/plain": [
       "<seaborn.axisgrid.FacetGrid at 0x1ab788e7ac0>"
      ]
     },
     "execution_count": 37,
     "metadata": {},
     "output_type": "execute_result"
    },
    {
     "data": {
      "image/png": "[encoded data removed]",
      "text/plain": [
       "<Figure size 720x360 with 1 Axes>"
      ]
     },
     "metadata": {
      "needs_background": "light"
     },
     "output_type": "display_data"
    }
   ],
   "source": [
    "sns.catplot(x='Year', y='Palestinians Killed', data=df1, color='red',aspect=2,kind=\"point\")"
   ]
  },
  {
   "cell_type": "code",
   "execution_count": 38,
   "id": "c9d069a6",
   "metadata": {},
   "outputs": [
    {
     "data": {
      "text/plain": [
       "<seaborn.axisgrid.FacetGrid at 0x1ab792e2790>"
      ]
     },
     "execution_count": 38,
     "metadata": {},
     "output_type": "execute_result"
    },
    {
     "data": {
      "image/png": "[encoded data removed]",
      "text/plain": [
       "<Figure size 720x360 with 1 Axes>"
      ]
     },
     "metadata": {
      "needs_background": "light"
     },
     "output_type": "display_data"
    }
   ],
   "source": [
    "sns.catplot(x='Year', y='Palestinian Casualties', data=df1, color=\"black\",aspect=2,kind=\"bar\")"
   ]
  },
  {
   "cell_type": "markdown",
   "id": "efa5a1d1",
   "metadata": {},
   "source": [
    "### The worst crisis year for Palestinians was 2000. It was the year of the camp david summit and Second intifada violence. \n",
    "### https://en.wikipedia.org/wiki/Second_Intifada\n",
    "### https://en.wikipedia.org/wiki/2000_Camp_David_Summit"
   ]
  },
  {
   "cell_type": "code",
   "execution_count": 39,
   "id": "d1e3088a",
   "metadata": {},
   "outputs": [
    {
     "data": {
      "text/plain": [
       "<seaborn.axisgrid.FacetGrid at 0x1ab79737a90>"
      ]
     },
     "execution_count": 39,
     "metadata": {},
     "output_type": "execute_result"
    },
    {
     "data": {
      "image/png": "[encoded data removed]",
      "text/plain": [
       "<Figure size 720x360 with 1 Axes>"
      ]
     },
     "metadata": {
      "needs_background": "light"
     },
     "output_type": "display_data"
    }
   ],
   "source": [
    "sns.catplot(x='Year', y='Israelis Casualties', data=df1, color=\"black\",aspect=2,kind=\"bar\")"
   ]
  },
  {
   "cell_type": "markdown",
   "id": "295cdc49",
   "metadata": {},
   "source": [
    "### The worst crisis year for Israelis was 2014. It was year of the invasion of Gaza by Israel( also known as Operation Protective Edge or Gaza war)."
   ]
  },
  {
   "cell_type": "code",
   "execution_count": 40,
   "id": "d0760353",
   "metadata": {},
   "outputs": [
    {
     "data": {
      "text/plain": [
       "<seaborn.axisgrid.FacetGrid at 0x1ab79948ca0>"
      ]
     },
     "execution_count": 40,
     "metadata": {},
     "output_type": "execute_result"
    },
    {
     "data": {
      "image/png": "[encoded data removed]",
      "text/plain": [
       "<Figure size 720x360 with 1 Axes>"
      ]
     },
     "metadata": {
      "needs_background": "light"
     },
     "output_type": "display_data"
    }
   ],
   "source": [
    "sns.catplot(x='Year', y='Total Casualties', data=df1, color=\"grey\",aspect=2,kind=\"bar\")"
   ]
  },
  {
   "cell_type": "markdown",
   "id": "5c180299",
   "metadata": {},
   "source": [
    "## The analysis shows us that the years 2000, 2007, 2014 And 2015 saw highest bloodshed with 2014 being the worst. The graphs show that the 2014-15 period was very gruesome as more than 35000 people were killed or injured in those two years. We will further analyse the reasons for each of the years."
   ]
  },
  {
   "cell_type": "code",
   "execution_count": 41,
   "id": "4bd51c6c",
   "metadata": {},
   "outputs": [
    {
     "data": {
      "text/plain": [
       "<seaborn.axisgrid.FacetGrid at 0x1ab79b524c0>"
      ]
     },
     "execution_count": 41,
     "metadata": {},
     "output_type": "execute_result"
    },
    {
     "data": {
      "image/png": "[encoded data removed]",
      "text/plain": [
       "<Figure size 720x360 with 1 Axes>"
      ]
     },
     "metadata": {
      "needs_background": "light"
     },
     "output_type": "display_data"
    }
   ],
   "source": [
    "sns.catplot(x='Year', y='Total Casualties', data=df1, color=\"grey\",aspect=2,kind=\"point\")"
   ]
  },
  {
   "cell_type": "code",
   "execution_count": 42,
   "id": "0b43f890",
   "metadata": {},
   "outputs": [
    {
     "data": {
      "image/png": "[encoded data removed]",
      "text/plain": [
       "<Figure size 1080x648 with 1 Axes>"
      ]
     },
     "metadata": {
      "needs_background": "light"
     },
     "output_type": "display_data"
    }
   ],
   "source": [
    "plt.figure(figsize=(15,9))\n",
    "plt.bar(df1['Year'],df1['Palestinians Injuries'] , label = \"Palestinian Injuries\" ) \n",
    "plt.bar(df1['Year'],df1['Israelis Injuries'] , label = \"Israeli Injuries\")\n",
    "plt.xlabel('Year')\n",
    "plt.legend()\n",
    "plt.show()"
   ]
  },
  {
   "cell_type": "code",
   "execution_count": 43,
   "id": "f593a275",
   "metadata": {},
   "outputs": [
    {
     "data": {
      "image/png": "[encoded data removed]",
      "text/plain": [
       "<Figure size 1080x648 with 1 Axes>"
      ]
     },
     "metadata": {
      "needs_background": "light"
     },
     "output_type": "display_data"
    }
   ],
   "source": [
    "plt.figure(figsize=(15,9))\n",
    "plt.bar(df1['Year'],df1['Palestinians Killed'] , label = \"Palestinian Killed\" ) \n",
    "plt.bar(df1['Year'],df1['Israelis Killed'] , label = \"Israeli Killed\")\n",
    "plt.xlabel('Year')\n",
    "plt.ylabel('Deaths')\n",
    "plt.legend()\n",
    "plt.show()"
   ]
  },
  {
   "cell_type": "markdown",
   "id": "116569bd",
   "metadata": {},
   "source": [
    "# Analysing whether Months have any effect on casualties"
   ]
  },
  {
   "cell_type": "code",
   "execution_count": 44,
   "id": "37c69e47",
   "metadata": {},
   "outputs": [
    {
     "data": {
      "image/png": "[encoded data removed]",
      "text/plain": [
       "<Figure size 1152x504 with 1 Axes>"
      ]
     },
     "metadata": {
      "needs_background": "light"
     },
     "output_type": "display_data"
    }
   ],
   "source": [
    "plt.figure(figsize=(16,7))\n",
    "plt.bar(df1['Month'],df1['Palestinians Killed'] , label = \"Palestinian Deaths\" ) \n",
    "plt.bar(df1['Month'],df1['Israelis Killed'] , label = \"Israeli Deaths\")\n",
    "plt.xlabel('Months Of All Given Years')\n",
    "plt.ylabel('Deaths')\n",
    "plt.legend()\n",
    "plt.show()"
   ]
  },
  {
   "cell_type": "code",
   "execution_count": 45,
   "id": "251d2fac",
   "metadata": {},
   "outputs": [
    {
     "data": {
      "text/plain": [
       "<seaborn.axisgrid.FacetGrid at 0x1ab7a015a00>"
      ]
     },
     "execution_count": 45,
     "metadata": {},
     "output_type": "execute_result"
    },
    {
     "data": {
      "image/png": "[encoded data removed]",
      "text/plain": [
       "<Figure size 1800x360 with 1 Axes>"
      ]
     },
     "metadata": {
      "needs_background": "light"
     },
     "output_type": "display_data"
    }
   ],
   "source": [
    "sns.catplot(x='Month', y='Total Casualties', data=df1, color=\"gold\",aspect=5,kind=\"point\")"
   ]
  },
  {
   "cell_type": "code",
   "execution_count": 64,
   "id": "b0c1e8d4",
   "metadata": {},
   "outputs": [
    {
     "data": {
      "text/plain": [
       "<seaborn.axisgrid.FacetGrid at 0x1ab7a383610>"
      ]
     },
     "execution_count": 64,
     "metadata": {},
     "output_type": "execute_result"
    },
    {
     "data": {
      "image/png": "[encoded data removed]",
      "text/plain": [
       "<Figure size 1800x360 with 1 Axes>"
      ]
     },
     "metadata": {
      "needs_background": "light"
     },
     "output_type": "display_data"
    }
   ],
   "source": [
    "sns.catplot(x='Month', y='Total Casualties', data=df1, color=\"gold\",aspect=5,kind=\"bar\")"
   ]
  },
  {
   "cell_type": "code",
   "execution_count": 65,
   "id": "44a352a1",
   "metadata": {},
   "outputs": [
    {
     "data": {
      "text/plain": [
       "<seaborn.axisgrid.FacetGrid at 0x1ab7d50dac0>"
      ]
     },
     "execution_count": 65,
     "metadata": {},
     "output_type": "execute_result"
    },
    {
     "data": {
      "image/png": "[encoded data removed]",
      "text/plain": [
       "<Figure size 1440x360 with 1 Axes>"
      ]
     },
     "metadata": {
      "needs_background": "light"
     },
     "output_type": "display_data"
    }
   ],
   "source": [
    "sns.catplot(x='Month', y='Total Casualties', data=df1, color=\"gold\",aspect=4,kind=\"box\")"
   ]
  },
  {
   "cell_type": "markdown",
   "id": "4458522b",
   "metadata": {},
   "source": [
    "### The Months Of December, October, November & August see the most bloodshed with August being highest. The months of december, october & november have seen multiple instances of abnormally high casualties. "
   ]
  },
  {
   "cell_type": "markdown",
   "id": "da9b4716",
   "metadata": {},
   "source": [
    "## Analysing Whether Years With Highest Casualties Also Saw High Demolitions.\n",
    "From above analysis we realised that the years 2000, 2007, 2014 And 2015 saw highest bloodshed with 2014 being the worst. Meanwhile years with highest demolitions are 2004, 2019, 2020 and 2013.\n",
    "There seems to be no major correlation between house demolitions and bloodshed in this conflict.\n",
    "However 2013-2014-2015 period does have spike in house demolitions which is very consistent with our earlier findings."
   ]
  },
  {
   "cell_type": "code",
   "execution_count": 47,
   "id": "1e13d9dc",
   "metadata": {},
   "outputs": [
    {
     "data": {
      "image/png": "[encoded data removed]",
      "text/plain": [
       "<Figure size 1080x576 with 2 Axes>"
      ]
     },
     "metadata": {
      "needs_background": "light"
     },
     "output_type": "display_data"
    }
   ],
   "source": [
    "def hist(data, bins, title=\"Cumulative Histogram\", labels=None, range = None):\n",
    "  fig = plt.figure(figsize=(15, 8))\n",
    "  ax = plt.axes()\n",
    "  plt.ylabel(\"Proportion\")\n",
    "  values, base, _ = plt.hist( data  , bins = bins, alpha = 0.5, color = \"green\", range = range, label = \"Histogram\")\n",
    "  ax_bis = ax.twinx()\n",
    "  values = np.append(values,0)\n",
    "  ax_bis.plot( base, np.cumsum(values)/ np.cumsum(values)[-1], color='darkorange', marker='o', linestyle='-', markersize = 1, label = \"Cumulative Histogram\" )\n",
    "  plt.xlabel(labels)\n",
    "  plt.ylabel(\"Proportion\")\n",
    "  plt.title(title)\n",
    "  ax_bis.legend();\n",
    "  ax.legend();\n",
    "  plt.show()\n",
    "  return\n",
    "hist(df1[\"Israelis Killed\"],10)"
   ]
  },
  {
   "cell_type": "code",
   "execution_count": 48,
   "id": "44a92228",
   "metadata": {},
   "outputs": [
    {
     "data": {
      "image/png": "[encoded data removed]",
      "text/plain": [
       "<Figure size 1080x576 with 2 Axes>"
      ]
     },
     "metadata": {
      "needs_background": "light"
     },
     "output_type": "display_data"
    }
   ],
   "source": [
    "hist(df1[\"Palestinians Killed\"],10)"
   ]
  },
  {
   "cell_type": "code",
   "execution_count": 49,
   "id": "5a4eed78",
   "metadata": {},
   "outputs": [
    {
     "data": {
      "text/plain": [
       "<AxesSubplot:xlabel='Type of Structure', ylabel='count'>"
      ]
     },
     "execution_count": 49,
     "metadata": {},
     "output_type": "execute_result"
    },
    {
     "data": {
      "image/png": "[encoded data removed]",
      "text/plain": [
       "<Figure size 432x288 with 1 Axes>"
      ]
     },
     "metadata": {
      "needs_background": "light"
     },
     "output_type": "display_data"
    }
   ],
   "source": [
    "sns.countplot(data=df,x='Type of Structure', color=\"green\")"
   ]
  },
  {
   "cell_type": "markdown",
   "id": "1f051222",
   "metadata": {},
   "source": [
    "Majority of the affected buildings are Residential Structures"
   ]
  },
  {
   "cell_type": "code",
   "execution_count": 50,
   "id": "c4f127dc",
   "metadata": {},
   "outputs": [
    {
     "data": {
      "text/plain": [
       "<seaborn.axisgrid.FacetGrid at 0x1ab7a7068b0>"
      ]
     },
     "execution_count": 50,
     "metadata": {},
     "output_type": "execute_result"
    },
    {
     "data": {
      "image/png": "[encoded data removed]",
      "text/plain": [
       "<Figure size 720x360 with 1 Axes>"
      ]
     },
     "metadata": {
      "needs_background": "light"
     },
     "output_type": "display_data"
    }
   ],
   "source": [
    "sns.catplot(x='Area', data=df, color=\"maroon\",kind=\"count\",aspect=2)"
   ]
  },
  {
   "cell_type": "markdown",
   "id": "da795916",
   "metadata": {},
   "source": [
    "The West Bank area has seen most house demolitions"
   ]
  },
  {
   "cell_type": "code",
   "execution_count": 51,
   "id": "2124cf8e",
   "metadata": {},
   "outputs": [
    {
     "data": {
      "text/plain": [
       "<seaborn.axisgrid.FacetGrid at 0x1ab79f4f2e0>"
      ]
     },
     "execution_count": 51,
     "metadata": {},
     "output_type": "execute_result"
    },
    {
     "data": {
      "image/png": "[encoded data removed]",
      "text/plain": [
       "<Figure size 1800x360 with 1 Axes>"
      ]
     },
     "metadata": {
      "needs_background": "light"
     },
     "output_type": "display_data"
    }
   ],
   "source": [
    "sns.catplot(x='District', data=df, color=\"black\",kind=\"count\",aspect=5)"
   ]
  },
  {
   "cell_type": "markdown",
   "id": "fca36af0",
   "metadata": {},
   "source": [
    "# Decadal Analysis"
   ]
  },
  {
   "cell_type": "code",
   "execution_count": 55,
   "id": "034508f8",
   "metadata": {},
   "outputs": [
    {
     "data": {
      "text/html": [
       "<div>\n",
       "<style scoped>\n",
       "    .dataframe tbody tr th:only-of-type {\n",
       "        vertical-align: middle;\n",
       "    }\n",
       "\n",
       "    .dataframe tbody tr th {\n",
       "        vertical-align: top;\n",
       "    }\n",
       "\n",
       "    .dataframe thead th {\n",
       "        text-align: right;\n",
       "    }\n",
       "</style>\n",
       "<table border=\"1\" class=\"dataframe\">\n",
       "  <thead>\n",
       "    <tr style=\"text-align: right;\">\n",
       "      <th></th>\n",
       "      <th>Palestinians Injuries</th>\n",
       "      <th>Israelis Injuries</th>\n",
       "      <th>Palestinians Killed</th>\n",
       "      <th>Israelis Killed</th>\n",
       "      <th>Palestinian Casualties</th>\n",
       "      <th>Israelis Casualties</th>\n",
       "      <th>Total Casualties</th>\n",
       "    </tr>\n",
       "    <tr>\n",
       "      <th>Year</th>\n",
       "      <th></th>\n",
       "      <th></th>\n",
       "      <th></th>\n",
       "      <th></th>\n",
       "      <th></th>\n",
       "      <th></th>\n",
       "      <th></th>\n",
       "    </tr>\n",
       "  </thead>\n",
       "  <tbody>\n",
       "    <tr>\n",
       "      <th>2000</th>\n",
       "      <td>10603</td>\n",
       "      <td>0</td>\n",
       "      <td>283</td>\n",
       "      <td>41</td>\n",
       "      <td>10886</td>\n",
       "      <td>41</td>\n",
       "      <td>10927</td>\n",
       "    </tr>\n",
       "    <tr>\n",
       "      <th>2001</th>\n",
       "      <td>6386</td>\n",
       "      <td>0</td>\n",
       "      <td>470</td>\n",
       "      <td>192</td>\n",
       "      <td>6856</td>\n",
       "      <td>192</td>\n",
       "      <td>7048</td>\n",
       "    </tr>\n",
       "    <tr>\n",
       "      <th>2002</th>\n",
       "      <td>4382</td>\n",
       "      <td>0</td>\n",
       "      <td>1032</td>\n",
       "      <td>419</td>\n",
       "      <td>5414</td>\n",
       "      <td>419</td>\n",
       "      <td>5833</td>\n",
       "    </tr>\n",
       "    <tr>\n",
       "      <th>2003</th>\n",
       "      <td>2992</td>\n",
       "      <td>0</td>\n",
       "      <td>588</td>\n",
       "      <td>185</td>\n",
       "      <td>3580</td>\n",
       "      <td>185</td>\n",
       "      <td>3765</td>\n",
       "    </tr>\n",
       "    <tr>\n",
       "      <th>2004</th>\n",
       "      <td>4009</td>\n",
       "      <td>0</td>\n",
       "      <td>786</td>\n",
       "      <td>104</td>\n",
       "      <td>4795</td>\n",
       "      <td>104</td>\n",
       "      <td>4899</td>\n",
       "    </tr>\n",
       "    <tr>\n",
       "      <th>2005</th>\n",
       "      <td>1385</td>\n",
       "      <td>493</td>\n",
       "      <td>190</td>\n",
       "      <td>51</td>\n",
       "      <td>1575</td>\n",
       "      <td>544</td>\n",
       "      <td>2119</td>\n",
       "    </tr>\n",
       "    <tr>\n",
       "      <th>2006</th>\n",
       "      <td>3199</td>\n",
       "      <td>377</td>\n",
       "      <td>665</td>\n",
       "      <td>20</td>\n",
       "      <td>3864</td>\n",
       "      <td>397</td>\n",
       "      <td>4261</td>\n",
       "    </tr>\n",
       "    <tr>\n",
       "      <th>2007</th>\n",
       "      <td>15426</td>\n",
       "      <td>322</td>\n",
       "      <td>385</td>\n",
       "      <td>12</td>\n",
       "      <td>15811</td>\n",
       "      <td>334</td>\n",
       "      <td>16145</td>\n",
       "    </tr>\n",
       "    <tr>\n",
       "      <th>2008</th>\n",
       "      <td>0</td>\n",
       "      <td>0</td>\n",
       "      <td>886</td>\n",
       "      <td>39</td>\n",
       "      <td>886</td>\n",
       "      <td>39</td>\n",
       "      <td>925</td>\n",
       "    </tr>\n",
       "    <tr>\n",
       "      <th>2009</th>\n",
       "      <td>6471</td>\n",
       "      <td>0</td>\n",
       "      <td>1036</td>\n",
       "      <td>9</td>\n",
       "      <td>7507</td>\n",
       "      <td>9</td>\n",
       "      <td>7516</td>\n",
       "    </tr>\n",
       "    <tr>\n",
       "      <th>2010</th>\n",
       "      <td>1539</td>\n",
       "      <td>176</td>\n",
       "      <td>82</td>\n",
       "      <td>9</td>\n",
       "      <td>1621</td>\n",
       "      <td>185</td>\n",
       "      <td>1806</td>\n",
       "    </tr>\n",
       "    <tr>\n",
       "      <th>2011</th>\n",
       "      <td>2110</td>\n",
       "      <td>124</td>\n",
       "      <td>117</td>\n",
       "      <td>10</td>\n",
       "      <td>2227</td>\n",
       "      <td>134</td>\n",
       "      <td>2361</td>\n",
       "    </tr>\n",
       "    <tr>\n",
       "      <th>2012</th>\n",
       "      <td>4894</td>\n",
       "      <td>345</td>\n",
       "      <td>255</td>\n",
       "      <td>7</td>\n",
       "      <td>5149</td>\n",
       "      <td>352</td>\n",
       "      <td>5501</td>\n",
       "    </tr>\n",
       "    <tr>\n",
       "      <th>2013</th>\n",
       "      <td>3964</td>\n",
       "      <td>151</td>\n",
       "      <td>38</td>\n",
       "      <td>6</td>\n",
       "      <td>4002</td>\n",
       "      <td>157</td>\n",
       "      <td>4159</td>\n",
       "    </tr>\n",
       "    <tr>\n",
       "      <th>2014</th>\n",
       "      <td>16799</td>\n",
       "      <td>2534</td>\n",
       "      <td>2279</td>\n",
       "      <td>85</td>\n",
       "      <td>19078</td>\n",
       "      <td>2619</td>\n",
       "      <td>21697</td>\n",
       "    </tr>\n",
       "    <tr>\n",
       "      <th>2015</th>\n",
       "      <td>15477</td>\n",
       "      <td>304</td>\n",
       "      <td>188</td>\n",
       "      <td>24</td>\n",
       "      <td>15665</td>\n",
       "      <td>328</td>\n",
       "      <td>15993</td>\n",
       "    </tr>\n",
       "    <tr>\n",
       "      <th>2016</th>\n",
       "      <td>3429</td>\n",
       "      <td>171</td>\n",
       "      <td>115</td>\n",
       "      <td>12</td>\n",
       "      <td>3544</td>\n",
       "      <td>183</td>\n",
       "      <td>3727</td>\n",
       "    </tr>\n",
       "    <tr>\n",
       "      <th>2017</th>\n",
       "      <td>7949</td>\n",
       "      <td>156</td>\n",
       "      <td>96</td>\n",
       "      <td>19</td>\n",
       "      <td>8045</td>\n",
       "      <td>175</td>\n",
       "      <td>8220</td>\n",
       "    </tr>\n",
       "    <tr>\n",
       "      <th>2018</th>\n",
       "      <td>0</td>\n",
       "      <td>0</td>\n",
       "      <td>290</td>\n",
       "      <td>14</td>\n",
       "      <td>290</td>\n",
       "      <td>14</td>\n",
       "      <td>304</td>\n",
       "    </tr>\n",
       "    <tr>\n",
       "      <th>2019</th>\n",
       "      <td>0</td>\n",
       "      <td>0</td>\n",
       "      <td>149</td>\n",
       "      <td>11</td>\n",
       "      <td>149</td>\n",
       "      <td>11</td>\n",
       "      <td>160</td>\n",
       "    </tr>\n",
       "    <tr>\n",
       "      <th>2020</th>\n",
       "      <td>0</td>\n",
       "      <td>0</td>\n",
       "      <td>34</td>\n",
       "      <td>3</td>\n",
       "      <td>34</td>\n",
       "      <td>3</td>\n",
       "      <td>37</td>\n",
       "    </tr>\n",
       "    <tr>\n",
       "      <th>2021</th>\n",
       "      <td>0</td>\n",
       "      <td>0</td>\n",
       "      <td>36</td>\n",
       "      <td>3</td>\n",
       "      <td>36</td>\n",
       "      <td>3</td>\n",
       "      <td>39</td>\n",
       "    </tr>\n",
       "  </tbody>\n",
       "</table>\n",
       "</div>"
      ],
      "text/plain": [
       "      Palestinians Injuries  Israelis Injuries  Palestinians Killed  \\\n",
       "Year                                                                  \n",
       "2000                  10603                  0                  283   \n",
       "2001                   6386                  0                  470   \n",
       "2002                   4382                  0                 1032   \n",
       "2003                   2992                  0                  588   \n",
       "2004                   4009                  0                  786   \n",
       "2005                   1385                493                  190   \n",
       "2006                   3199                377                  665   \n",
       "2007                  15426                322                  385   \n",
       "2008                      0                  0                  886   \n",
       "2009                   6471                  0                 1036   \n",
       "2010                   1539                176                   82   \n",
       "2011                   2110                124                  117   \n",
       "2012                   4894                345                  255   \n",
       "2013                   3964                151                   38   \n",
       "2014                  16799               2534                 2279   \n",
       "2015                  15477                304                  188   \n",
       "2016                   3429                171                  115   \n",
       "2017                   7949                156                   96   \n",
       "2018                      0                  0                  290   \n",
       "2019                      0                  0                  149   \n",
       "2020                      0                  0                   34   \n",
       "2021                      0                  0                   36   \n",
       "\n",
       "      Israelis Killed  Palestinian Casualties  Israelis Casualties  \\\n",
       "Year                                                                 \n",
       "2000               41                   10886                   41   \n",
       "2001              192                    6856                  192   \n",
       "2002              419                    5414                  419   \n",
       "2003              185                    3580                  185   \n",
       "2004              104                    4795                  104   \n",
       "2005               51                    1575                  544   \n",
       "2006               20                    3864                  397   \n",
       "2007               12                   15811                  334   \n",
       "2008               39                     886                   39   \n",
       "2009                9                    7507                    9   \n",
       "2010                9                    1621                  185   \n",
       "2011               10                    2227                  134   \n",
       "2012                7                    5149                  352   \n",
       "2013                6                    4002                  157   \n",
       "2014               85                   19078                 2619   \n",
       "2015               24                   15665                  328   \n",
       "2016               12                    3544                  183   \n",
       "2017               19                    8045                  175   \n",
       "2018               14                     290                   14   \n",
       "2019               11                     149                   11   \n",
       "2020                3                      34                    3   \n",
       "2021                3                      36                    3   \n",
       "\n",
       "      Total Casualties  \n",
       "Year                    \n",
       "2000             10927  \n",
       "2001              7048  \n",
       "2002              5833  \n",
       "2003              3765  \n",
       "2004              4899  \n",
       "2005              2119  \n",
       "2006              4261  \n",
       "2007             16145  \n",
       "2008               925  \n",
       "2009              7516  \n",
       "2010              1806  \n",
       "2011              2361  \n",
       "2012              5501  \n",
       "2013              4159  \n",
       "2014             21697  \n",
       "2015             15993  \n",
       "2016              3727  \n",
       "2017              8220  \n",
       "2018               304  \n",
       "2019               160  \n",
       "2020                37  \n",
       "2021                39  "
      ]
     },
     "execution_count": 55,
     "metadata": {},
     "output_type": "execute_result"
    }
   ],
   "source": [
    "df1net"
   ]
  },
  {
   "cell_type": "code",
   "execution_count": 56,
   "id": "33eee870",
   "metadata": {},
   "outputs": [],
   "source": [
    "df1net=df1net.reset_index()"
   ]
  },
  {
   "cell_type": "markdown",
   "id": "30714f55",
   "metadata": {},
   "source": [
    "Calculating Count for Decades"
   ]
  },
  {
   "cell_type": "code",
   "execution_count": 57,
   "id": "85d0f230",
   "metadata": {},
   "outputs": [],
   "source": [
    "Pal2000=0\n",
    "Isr2000=0\n",
    "tot2000=0\n",
    "pal2010=0\n",
    "isr2010=0\n",
    "tot2010=0\n",
    "for i in range(len(df1net)):\n",
    "    if df1net[\"Year\"].iloc[i]>=2011:\n",
    "        pal2010=pal2010+ df1net[\"Palestinian Casualties\"].iloc[i]\n",
    "        isr2010=isr2010+ df1net[\"Israelis Casualties\"].iloc[i]\n",
    "        tot2010=tot2010+ df1net[\"Total Casualties\"].iloc[i]\n",
    "    else:\n",
    "        Pal2000=Pal2000+ df1net[\"Palestinian Casualties\"].iloc[i]\n",
    "        Isr2000=Isr2000+ df1net[\"Israelis Casualties\"].iloc[i]\n",
    "        tot2000=tot2000+ df1net[\"Total Casualties\"].iloc[i]\n",
    "        "
   ]
  },
  {
   "cell_type": "code",
   "execution_count": 58,
   "id": "dec55bfd",
   "metadata": {},
   "outputs": [
    {
     "name": "stdout",
     "output_type": "stream",
     "text": [
      " Palestinian Casualties During 2010s Were 58219 While During 2000s It Was 62795\n"
     ]
    }
   ],
   "source": [
    "print(f\" Palestinian Casualties During 2010s Were {pal2010} While During 2000s It Was {Pal2000}\")"
   ]
  },
  {
   "cell_type": "code",
   "execution_count": 59,
   "id": "a12fa462",
   "metadata": {},
   "outputs": [
    {
     "name": "stdout",
     "output_type": "stream",
     "text": [
      " Israeli Casualties During 2010s Were 3979 While During 2000s It Was 2449\n"
     ]
    }
   ],
   "source": [
    "print(f\" Israeli Casualties During 2010s Were {isr2010} While During 2000s It Was {Isr2000}\")"
   ]
  },
  {
   "cell_type": "code",
   "execution_count": 60,
   "id": "5889f0a4",
   "metadata": {},
   "outputs": [
    {
     "name": "stdout",
     "output_type": "stream",
     "text": [
      " Total Casualties During 2010s Were 62198 While During 2000s It Was 65244\n"
     ]
    }
   ],
   "source": [
    "print(f\" Total Casualties During 2010s Were {tot2010} While During 2000s It Was {tot2000}\")"
   ]
  },
  {
   "cell_type": "markdown",
   "id": "b42a3079",
   "metadata": {},
   "source": [
    "There has been a very marginal decrease in casualties but the conflict still remains deadly as ever."
   ]
  },
  {
   "cell_type": "markdown",
   "id": "9d9c09f8",
   "metadata": {},
   "source": [
    "# Mini Case Studies:"
   ]
  },
  {
   "cell_type": "markdown",
   "id": "73d49215",
   "metadata": {},
   "source": [
    "## The Gaza War Of 2014"
   ]
  },
  {
   "cell_type": "markdown",
   "id": "bec7a1d5",
   "metadata": {},
   "source": [
    "The 2014 Gaza War, also known as Operation Protective Edge was a military operation launched by Israel on 8 July 2014 in the Hamas-ruled Gaza Strip. Following the kidnapping and murder of three Israeli teenagers by Hamas members, the IDF conducted Operation Brother's Keeper to arrest militant leaders, Hamas fired rockets into Israel and a seven-week conflict broke out. It was one of the deadliest conflicts between the Palestinians and Israel in decades. The combined Israeli airstrikes and ground bombardment and Palestinian rocket attacks resulted in thousands of deaths, the vast majority of which were Gazans.\n",
    "Hamas's goal was to bring international pressure to bear to lift Israel's blockade of the Gaza Strip, end Israel's offensive, obtain a third party to monitor and guarantee compliance with a ceasefire, release Palestinian prisoners and overcome its political isolation. According to the BBC, in response to rocket fire from the Gaza Strip, Israel launched air raids on Gaza.\n",
    "\n",
    "On 7 July, after seven Hamas militants died in a tunnel explosion in Khan Yunis which was caused by an Israeli airstrike or an accidental explosion of their own munitions (per the IDF), Hamas assumed responsibility for rockets fired into Israel and launched 40 rockets towards Israel. The operation officially began the following day, and on 17 July, the operation was expanded to an Israeli ground invasion of Gaza with the stated aim of destroying Gaza's tunnel system; Israeli ground forces withdrew on 5 August. On 26 August, an open-ended ceasefire was announced. By that date, the IDF reported that Hamas, Islamic Jihad and other militant groups had fired 4,564 rockets and mortars from Gaza into Israel, with over 735 intercepted in flight and shot down by Iron Dome.\n",
    "Source: https://en.wikipedia.org/wiki/2014_Gaza_War"
   ]
  },
  {
   "cell_type": "code",
   "execution_count": 66,
   "id": "5af9bd6e",
   "metadata": {},
   "outputs": [
    {
     "data": {
      "text/html": [
       "<div>\n",
       "<style scoped>\n",
       "    .dataframe tbody tr th:only-of-type {\n",
       "        vertical-align: middle;\n",
       "    }\n",
       "\n",
       "    .dataframe tbody tr th {\n",
       "        vertical-align: top;\n",
       "    }\n",
       "\n",
       "    .dataframe thead th {\n",
       "        text-align: right;\n",
       "    }\n",
       "</style>\n",
       "<table border=\"1\" class=\"dataframe\">\n",
       "  <thead>\n",
       "    <tr style=\"text-align: right;\">\n",
       "      <th></th>\n",
       "      <th>Year</th>\n",
       "      <th>Month</th>\n",
       "      <th>Palestinians Injuries</th>\n",
       "      <th>Israelis Injuries</th>\n",
       "      <th>Palestinians Killed</th>\n",
       "      <th>Israelis Killed</th>\n",
       "      <th>Palestinian Casualties</th>\n",
       "      <th>Israelis Casualties</th>\n",
       "      <th>Total Casualties</th>\n",
       "    </tr>\n",
       "  </thead>\n",
       "  <tbody>\n",
       "    <tr>\n",
       "      <th>167</th>\n",
       "      <td>2014</td>\n",
       "      <td>MAY</td>\n",
       "      <td>265</td>\n",
       "      <td>28</td>\n",
       "      <td>3</td>\n",
       "      <td>1</td>\n",
       "      <td>268</td>\n",
       "      <td>29</td>\n",
       "      <td>297</td>\n",
       "    </tr>\n",
       "    <tr>\n",
       "      <th>170</th>\n",
       "      <td>2014</td>\n",
       "      <td>FEBRUARY</td>\n",
       "      <td>216</td>\n",
       "      <td>6</td>\n",
       "      <td>3</td>\n",
       "      <td>0</td>\n",
       "      <td>219</td>\n",
       "      <td>6</td>\n",
       "      <td>225</td>\n",
       "    </tr>\n",
       "    <tr>\n",
       "      <th>171</th>\n",
       "      <td>2014</td>\n",
       "      <td>JANUARY</td>\n",
       "      <td>219</td>\n",
       "      <td>9</td>\n",
       "      <td>6</td>\n",
       "      <td>0</td>\n",
       "      <td>225</td>\n",
       "      <td>9</td>\n",
       "      <td>234</td>\n",
       "    </tr>\n",
       "    <tr>\n",
       "      <th>169</th>\n",
       "      <td>2014</td>\n",
       "      <td>MARCH</td>\n",
       "      <td>228</td>\n",
       "      <td>5</td>\n",
       "      <td>12</td>\n",
       "      <td>0</td>\n",
       "      <td>240</td>\n",
       "      <td>5</td>\n",
       "      <td>245</td>\n",
       "    </tr>\n",
       "    <tr>\n",
       "      <th>168</th>\n",
       "      <td>2014</td>\n",
       "      <td>APRIL</td>\n",
       "      <td>302</td>\n",
       "      <td>15</td>\n",
       "      <td>0</td>\n",
       "      <td>1</td>\n",
       "      <td>302</td>\n",
       "      <td>16</td>\n",
       "      <td>318</td>\n",
       "    </tr>\n",
       "    <tr>\n",
       "      <th>166</th>\n",
       "      <td>2014</td>\n",
       "      <td>JUNE</td>\n",
       "      <td>0</td>\n",
       "      <td>0</td>\n",
       "      <td>10</td>\n",
       "      <td>3</td>\n",
       "      <td>10</td>\n",
       "      <td>3</td>\n",
       "      <td>13</td>\n",
       "    </tr>\n",
       "    <tr>\n",
       "      <th>161</th>\n",
       "      <td>2014</td>\n",
       "      <td>NOVEMBER</td>\n",
       "      <td>984</td>\n",
       "      <td>55</td>\n",
       "      <td>8</td>\n",
       "      <td>10</td>\n",
       "      <td>992</td>\n",
       "      <td>65</td>\n",
       "      <td>1057</td>\n",
       "    </tr>\n",
       "    <tr>\n",
       "      <th>164</th>\n",
       "      <td>2014</td>\n",
       "      <td>AUGUST</td>\n",
       "      <td>13735</td>\n",
       "      <td>2347</td>\n",
       "      <td>614</td>\n",
       "      <td>9</td>\n",
       "      <td>14349</td>\n",
       "      <td>2356</td>\n",
       "      <td>16705</td>\n",
       "    </tr>\n",
       "    <tr>\n",
       "      <th>165</th>\n",
       "      <td>2014</td>\n",
       "      <td>JULY</td>\n",
       "      <td>0</td>\n",
       "      <td>0</td>\n",
       "      <td>1590</td>\n",
       "      <td>59</td>\n",
       "      <td>1590</td>\n",
       "      <td>59</td>\n",
       "      <td>1649</td>\n",
       "    </tr>\n",
       "    <tr>\n",
       "      <th>160</th>\n",
       "      <td>2014</td>\n",
       "      <td>DECEMBER</td>\n",
       "      <td>350</td>\n",
       "      <td>15</td>\n",
       "      <td>5</td>\n",
       "      <td>0</td>\n",
       "      <td>355</td>\n",
       "      <td>15</td>\n",
       "      <td>370</td>\n",
       "    </tr>\n",
       "    <tr>\n",
       "      <th>162</th>\n",
       "      <td>2014</td>\n",
       "      <td>OCTOBER</td>\n",
       "      <td>291</td>\n",
       "      <td>32</td>\n",
       "      <td>8</td>\n",
       "      <td>2</td>\n",
       "      <td>299</td>\n",
       "      <td>34</td>\n",
       "      <td>333</td>\n",
       "    </tr>\n",
       "    <tr>\n",
       "      <th>163</th>\n",
       "      <td>2014</td>\n",
       "      <td>SEPTEMBER</td>\n",
       "      <td>209</td>\n",
       "      <td>22</td>\n",
       "      <td>20</td>\n",
       "      <td>0</td>\n",
       "      <td>229</td>\n",
       "      <td>22</td>\n",
       "      <td>251</td>\n",
       "    </tr>\n",
       "  </tbody>\n",
       "</table>\n",
       "</div>"
      ],
      "text/plain": [
       "     Year      Month  Palestinians Injuries  Israelis Injuries  \\\n",
       "167  2014        MAY                    265                 28   \n",
       "170  2014   FEBRUARY                    216                  6   \n",
       "171  2014    JANUARY                    219                  9   \n",
       "169  2014      MARCH                    228                  5   \n",
       "168  2014      APRIL                    302                 15   \n",
       "166  2014       JUNE                      0                  0   \n",
       "161  2014   NOVEMBER                    984                 55   \n",
       "164  2014     AUGUST                  13735               2347   \n",
       "165  2014       JULY                      0                  0   \n",
       "160  2014   DECEMBER                    350                 15   \n",
       "162  2014    OCTOBER                    291                 32   \n",
       "163  2014  SEPTEMBER                    209                 22   \n",
       "\n",
       "     Palestinians Killed  Israelis Killed  Palestinian Casualties  \\\n",
       "167                    3                1                     268   \n",
       "170                    3                0                     219   \n",
       "171                    6                0                     225   \n",
       "169                   12                0                     240   \n",
       "168                    0                1                     302   \n",
       "166                   10                3                      10   \n",
       "161                    8               10                     992   \n",
       "164                  614                9                   14349   \n",
       "165                 1590               59                    1590   \n",
       "160                    5                0                     355   \n",
       "162                    8                2                     299   \n",
       "163                   20                0                     229   \n",
       "\n",
       "     Israelis Casualties  Total Casualties  \n",
       "167                   29               297  \n",
       "170                    6               225  \n",
       "171                    9               234  \n",
       "169                    5               245  \n",
       "168                   16               318  \n",
       "166                    3                13  \n",
       "161                   65              1057  \n",
       "164                 2356             16705  \n",
       "165                   59              1649  \n",
       "160                   15               370  \n",
       "162                   34               333  \n",
       "163                   22               251  "
      ]
     },
     "execution_count": 66,
     "metadata": {},
     "output_type": "execute_result"
    }
   ],
   "source": [
    "df1[df1[\"Year\"]==2014]"
   ]
  },
  {
   "cell_type": "code",
   "execution_count": 67,
   "id": "50bbe5ff",
   "metadata": {},
   "outputs": [
    {
     "data": {
      "text/plain": [
       "21697"
      ]
     },
     "execution_count": 67,
     "metadata": {},
     "output_type": "execute_result"
    }
   ],
   "source": [
    "df1[df1[\"Year\"]==2014][\"Total Casualties\"].sum()"
   ]
  },
  {
   "cell_type": "markdown",
   "id": "9123cece",
   "metadata": {},
   "source": [
    "A total of 21697 People Suffered Casualties In 2014."
   ]
  },
  {
   "cell_type": "markdown",
   "id": "938a638e",
   "metadata": {},
   "source": [
    "The main conflict lasted mainly between July And August which saw 18000+ Casualties"
   ]
  },
  {
   "cell_type": "code",
   "execution_count": 71,
   "id": "93da469c",
   "metadata": {},
   "outputs": [
    {
     "data": {
      "text/plain": [
       "<seaborn.axisgrid.FacetGrid at 0x1ab7db29d60>"
      ]
     },
     "execution_count": 71,
     "metadata": {},
     "output_type": "execute_result"
    },
    {
     "data": {
      "image/png": "[encoded data removed]",
      "text/plain": [
       "<Figure size 1800x360 with 1 Axes>"
      ]
     },
     "metadata": {
      "needs_background": "light"
     },
     "output_type": "display_data"
    }
   ],
   "source": [
    "sns.catplot(x='Month', y='Total Casualties', data=df1[df1[\"Year\"]==2014], color=\"black\",aspect=5,kind=\"bar\")"
   ]
  },
  {
   "cell_type": "code",
   "execution_count": 73,
   "id": "b8224668",
   "metadata": {},
   "outputs": [
    {
     "data": {
      "text/plain": [
       "<seaborn.axisgrid.FacetGrid at 0x1ab7bd90670>"
      ]
     },
     "execution_count": 73,
     "metadata": {},
     "output_type": "execute_result"
    },
    {
     "data": {
      "image/png": "[encoded data removed]",
      "text/plain": [
       "<Figure size 1800x360 with 1 Axes>"
      ]
     },
     "metadata": {
      "needs_background": "light"
     },
     "output_type": "display_data"
    }
   ],
   "source": [
    "sns.catplot(x='Month', y='Israelis Casualties', data=df1[df1[\"Year\"]==2014], color=\"black\",aspect=5,kind=\"bar\")"
   ]
  },
  {
   "cell_type": "markdown",
   "id": "488f5660",
   "metadata": {},
   "source": [
    "The majority of Israeli deaths take place in August, during the raids & due to rockets by hamas."
   ]
  },
  {
   "cell_type": "code",
   "execution_count": 74,
   "id": "64af4bea",
   "metadata": {},
   "outputs": [
    {
     "data": {
      "text/plain": [
       "<seaborn.axisgrid.FacetGrid at 0x1ab7bd6d9a0>"
      ]
     },
     "execution_count": 74,
     "metadata": {},
     "output_type": "execute_result"
    },
    {
     "data": {
      "image/png": "[encoded data removed]",
      "text/plain": [
       "<Figure size 1800x360 with 1 Axes>"
      ]
     },
     "metadata": {
      "needs_background": "light"
     },
     "output_type": "display_data"
    }
   ],
   "source": [
    "sns.catplot(x='Month', y='Palestinian Casualties', data=df1[df1[\"Year\"]==2014], color=\"black\",aspect=5,kind=\"bar\")"
   ]
  },
  {
   "cell_type": "markdown",
   "id": "48788c36",
   "metadata": {},
   "source": [
    "The majority of Palestinian deaths take place in August, November & July during the raids & due to Airstrikes."
   ]
  },
  {
   "cell_type": "code",
   "execution_count": 93,
   "id": "85a93e80",
   "metadata": {},
   "outputs": [
    {
     "data": {
      "text/plain": [
       "259"
      ]
     },
     "execution_count": 93,
     "metadata": {},
     "output_type": "execute_result"
    }
   ],
   "source": [
    "df[df[\"Year\"]==2014][\"Housing Units\"].sum()"
   ]
  },
  {
   "cell_type": "markdown",
   "id": "7c5a89e6",
   "metadata": {},
   "source": [
    "## The Palestine War Of 2007"
   ]
  },
  {
   "cell_type": "markdown",
   "id": "0aecb995",
   "metadata": {},
   "source": [
    "The Battle of Gaza, also referred to as Hamas' takeover of Gaza, was a military conflict between Fatah and Hamas(Two Militias From Palestine), that took place in the Gaza Strip at 2007. It was a prominent event in the Fatah–Hamas conflict, centered on the struggle for power, after Fatah lost the parliamentary elections of 2006. Hamas fighters took control of the Gaza Strip and removed Fatah officials. The battle resulted in the dissolution of the unity government and the de facto division of the Palestinian territories into two entities, the West Bank governed by the Palestinian National Authority, and Gaza governed by Hamas."
   ]
  },
  {
   "cell_type": "code",
   "execution_count": 75,
   "id": "b4ca263d",
   "metadata": {},
   "outputs": [
    {
     "data": {
      "text/html": [
       "<div>\n",
       "<style scoped>\n",
       "    .dataframe tbody tr th:only-of-type {\n",
       "        vertical-align: middle;\n",
       "    }\n",
       "\n",
       "    .dataframe tbody tr th {\n",
       "        vertical-align: top;\n",
       "    }\n",
       "\n",
       "    .dataframe thead th {\n",
       "        text-align: right;\n",
       "    }\n",
       "</style>\n",
       "<table border=\"1\" class=\"dataframe\">\n",
       "  <thead>\n",
       "    <tr style=\"text-align: right;\">\n",
       "      <th></th>\n",
       "      <th>Year</th>\n",
       "      <th>Month</th>\n",
       "      <th>Palestinians Injuries</th>\n",
       "      <th>Israelis Injuries</th>\n",
       "      <th>Palestinians Killed</th>\n",
       "      <th>Israelis Killed</th>\n",
       "      <th>Palestinian Casualties</th>\n",
       "      <th>Israelis Casualties</th>\n",
       "      <th>Total Casualties</th>\n",
       "    </tr>\n",
       "  </thead>\n",
       "  <tbody>\n",
       "    <tr>\n",
       "      <th>87</th>\n",
       "      <td>2007</td>\n",
       "      <td>JANUARY</td>\n",
       "      <td>104</td>\n",
       "      <td>12</td>\n",
       "      <td>10</td>\n",
       "      <td>3</td>\n",
       "      <td>114</td>\n",
       "      <td>15</td>\n",
       "      <td>129</td>\n",
       "    </tr>\n",
       "    <tr>\n",
       "      <th>86</th>\n",
       "      <td>2007</td>\n",
       "      <td>FEBRUARY</td>\n",
       "      <td>256</td>\n",
       "      <td>35</td>\n",
       "      <td>12</td>\n",
       "      <td>1</td>\n",
       "      <td>268</td>\n",
       "      <td>36</td>\n",
       "      <td>304</td>\n",
       "    </tr>\n",
       "    <tr>\n",
       "      <th>85</th>\n",
       "      <td>2007</td>\n",
       "      <td>MARCH</td>\n",
       "      <td>153</td>\n",
       "      <td>15</td>\n",
       "      <td>9</td>\n",
       "      <td>0</td>\n",
       "      <td>162</td>\n",
       "      <td>15</td>\n",
       "      <td>177</td>\n",
       "    </tr>\n",
       "    <tr>\n",
       "      <th>84</th>\n",
       "      <td>2007</td>\n",
       "      <td>APRIL</td>\n",
       "      <td>115</td>\n",
       "      <td>22</td>\n",
       "      <td>16</td>\n",
       "      <td>0</td>\n",
       "      <td>131</td>\n",
       "      <td>22</td>\n",
       "      <td>153</td>\n",
       "    </tr>\n",
       "    <tr>\n",
       "      <th>83</th>\n",
       "      <td>2007</td>\n",
       "      <td>MAY</td>\n",
       "      <td>281</td>\n",
       "      <td>30</td>\n",
       "      <td>62</td>\n",
       "      <td>2</td>\n",
       "      <td>343</td>\n",
       "      <td>32</td>\n",
       "      <td>375</td>\n",
       "    </tr>\n",
       "    <tr>\n",
       "      <th>82</th>\n",
       "      <td>2007</td>\n",
       "      <td>JUNE</td>\n",
       "      <td>162</td>\n",
       "      <td>19</td>\n",
       "      <td>40</td>\n",
       "      <td>0</td>\n",
       "      <td>202</td>\n",
       "      <td>19</td>\n",
       "      <td>221</td>\n",
       "    </tr>\n",
       "    <tr>\n",
       "      <th>80</th>\n",
       "      <td>2007</td>\n",
       "      <td>AUGUST</td>\n",
       "      <td>154</td>\n",
       "      <td>56</td>\n",
       "      <td>47</td>\n",
       "      <td>0</td>\n",
       "      <td>201</td>\n",
       "      <td>56</td>\n",
       "      <td>257</td>\n",
       "    </tr>\n",
       "    <tr>\n",
       "      <th>79</th>\n",
       "      <td>2007</td>\n",
       "      <td>SEPTEMBER</td>\n",
       "      <td>135</td>\n",
       "      <td>87</td>\n",
       "      <td>34</td>\n",
       "      <td>0</td>\n",
       "      <td>169</td>\n",
       "      <td>87</td>\n",
       "      <td>256</td>\n",
       "    </tr>\n",
       "    <tr>\n",
       "      <th>78</th>\n",
       "      <td>2007</td>\n",
       "      <td>OCTOBER</td>\n",
       "      <td>152</td>\n",
       "      <td>13</td>\n",
       "      <td>36</td>\n",
       "      <td>2</td>\n",
       "      <td>188</td>\n",
       "      <td>15</td>\n",
       "      <td>203</td>\n",
       "    </tr>\n",
       "    <tr>\n",
       "      <th>77</th>\n",
       "      <td>2007</td>\n",
       "      <td>NOVEMBER</td>\n",
       "      <td>127</td>\n",
       "      <td>6</td>\n",
       "      <td>31</td>\n",
       "      <td>1</td>\n",
       "      <td>158</td>\n",
       "      <td>7</td>\n",
       "      <td>165</td>\n",
       "    </tr>\n",
       "    <tr>\n",
       "      <th>76</th>\n",
       "      <td>2007</td>\n",
       "      <td>DECEMBER</td>\n",
       "      <td>13720</td>\n",
       "      <td>20</td>\n",
       "      <td>61</td>\n",
       "      <td>2</td>\n",
       "      <td>13781</td>\n",
       "      <td>22</td>\n",
       "      <td>13803</td>\n",
       "    </tr>\n",
       "    <tr>\n",
       "      <th>81</th>\n",
       "      <td>2007</td>\n",
       "      <td>JULY</td>\n",
       "      <td>67</td>\n",
       "      <td>7</td>\n",
       "      <td>27</td>\n",
       "      <td>1</td>\n",
       "      <td>94</td>\n",
       "      <td>8</td>\n",
       "      <td>102</td>\n",
       "    </tr>\n",
       "  </tbody>\n",
       "</table>\n",
       "</div>"
      ],
      "text/plain": [
       "    Year      Month  Palestinians Injuries  Israelis Injuries  \\\n",
       "87  2007    JANUARY                    104                 12   \n",
       "86  2007   FEBRUARY                    256                 35   \n",
       "85  2007      MARCH                    153                 15   \n",
       "84  2007      APRIL                    115                 22   \n",
       "83  2007        MAY                    281                 30   \n",
       "82  2007       JUNE                    162                 19   \n",
       "80  2007     AUGUST                    154                 56   \n",
       "79  2007  SEPTEMBER                    135                 87   \n",
       "78  2007    OCTOBER                    152                 13   \n",
       "77  2007   NOVEMBER                    127                  6   \n",
       "76  2007   DECEMBER                  13720                 20   \n",
       "81  2007       JULY                     67                  7   \n",
       "\n",
       "    Palestinians Killed  Israelis Killed  Palestinian Casualties  \\\n",
       "87                   10                3                     114   \n",
       "86                   12                1                     268   \n",
       "85                    9                0                     162   \n",
       "84                   16                0                     131   \n",
       "83                   62                2                     343   \n",
       "82                   40                0                     202   \n",
       "80                   47                0                     201   \n",
       "79                   34                0                     169   \n",
       "78                   36                2                     188   \n",
       "77                   31                1                     158   \n",
       "76                   61                2                   13781   \n",
       "81                   27                1                      94   \n",
       "\n",
       "    Israelis Casualties  Total Casualties  \n",
       "87                   15               129  \n",
       "86                   36               304  \n",
       "85                   15               177  \n",
       "84                   22               153  \n",
       "83                   32               375  \n",
       "82                   19               221  \n",
       "80                   56               257  \n",
       "79                   87               256  \n",
       "78                   15               203  \n",
       "77                    7               165  \n",
       "76                   22             13803  \n",
       "81                    8               102  "
      ]
     },
     "execution_count": 75,
     "metadata": {},
     "output_type": "execute_result"
    }
   ],
   "source": [
    "df1[df1[\"Year\"]==2007]"
   ]
  },
  {
   "cell_type": "code",
   "execution_count": 87,
   "id": "e4d209ea",
   "metadata": {},
   "outputs": [
    {
     "data": {
      "text/plain": [
       "16145"
      ]
     },
     "execution_count": 87,
     "metadata": {},
     "output_type": "execute_result"
    }
   ],
   "source": [
    "df1[df1[\"Year\"]==2007][\"Total Casualties\"].sum()"
   ]
  },
  {
   "cell_type": "code",
   "execution_count": 88,
   "id": "f8a30618",
   "metadata": {},
   "outputs": [
    {
     "data": {
      "text/plain": [
       "15811"
      ]
     },
     "execution_count": 88,
     "metadata": {},
     "output_type": "execute_result"
    }
   ],
   "source": [
    "df1[df1[\"Year\"]==2007][\"Palestinian Casualties\"].sum()"
   ]
  },
  {
   "cell_type": "markdown",
   "id": "6b79d219",
   "metadata": {},
   "source": [
    "The total casualties in 2007 was 16145 and about 97% of them were Palestinians which is way higher."
   ]
  },
  {
   "cell_type": "markdown",
   "id": "4eb503a7",
   "metadata": {},
   "source": [
    "The Palestinian Casualties are abnormally high because the conflict was between two Gazan militias and didnt involve israel."
   ]
  },
  {
   "cell_type": "code",
   "execution_count": 94,
   "id": "cc4236ab",
   "metadata": {},
   "outputs": [
    {
     "data": {
      "text/plain": [
       "<seaborn.axisgrid.FacetGrid at 0x1ab7d654730>"
      ]
     },
     "execution_count": 94,
     "metadata": {},
     "output_type": "execute_result"
    },
    {
     "data": {
      "image/png": "[encoded data removed]",
      "text/plain": [
       "<Figure size 1800x360 with 1 Axes>"
      ]
     },
     "metadata": {
      "needs_background": "light"
     },
     "output_type": "display_data"
    }
   ],
   "source": [
    "sns.catplot(x='Month', y='Total Casualties', data=df1[df1[\"Year\"]==2007], color=\"black\",aspect=5,kind=\"bar\")"
   ]
  },
  {
   "cell_type": "code",
   "execution_count": 91,
   "id": "9e0e9f4e",
   "metadata": {},
   "outputs": [
    {
     "data": {
      "text/plain": [
       "146"
      ]
     },
     "execution_count": 91,
     "metadata": {},
     "output_type": "execute_result"
    }
   ],
   "source": [
    "df[df[\"Year\"]==2007][\"Housing Units\"].sum()"
   ]
  },
  {
   "cell_type": "markdown",
   "id": "db1244a0",
   "metadata": {},
   "source": [
    "A total of 146 structures were illegally demolished in 2007."
   ]
  }
 ],
 "metadata": {
  "kernelspec": {
   "display_name": "Python 3",
   "language": "python",
   "name": "python3"
  },
  "language_info": {
   "codemirror_mode": {
    "name": "ipython",
    "version": 3
   },
   "file_extension": ".py",
   "mimetype": "text/x-python",
   "name": "python",
   "nbconvert_exporter": "python",
   "pygments_lexer": "ipython3",
   "version": "3.8.8"
  }
 },
 "nbformat": 4,
 "nbformat_minor": 5
}
